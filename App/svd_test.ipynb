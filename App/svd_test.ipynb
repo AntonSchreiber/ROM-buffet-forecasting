{
 "cells": [
  {
   "attachments": {},
   "cell_type": "markdown",
   "metadata": {},
   "source": [
    "# Singular Value Decomposition (SVD)"
   ]
  },
  {
   "attachments": {},
   "cell_type": "markdown",
   "metadata": {},
   "source": [
    "##### 2.c: evaluate the reconstruction performance on at least two IPSP datasets that were not part of the training\n",
    "\n",
    "1. Load test data sets\n",
    "2. Load the truncated left singular vectors $U_{reduced}$\n",
    "3. Transform the test data into the reduced state with $$ X_{test,reduced} = U_{reduced}^T X_{test} $$\n",
    "4. Reconstruct the reduced test data $ X_{test,reduced} $ with $$ X_{test,reconstr} = U_{reduced} X_{test,reduced}$$\n",
    "5. Compare the reconstructed test set with the original test set using appropriate metrics, such as MSE $$ MSE = mean((X_{test} - X_{test,reconstr})^2) $$"
   ]
  },
  {
   "cell_type": "code",
   "execution_count": 5,
   "metadata": {},
   "outputs": [],
   "source": [
    "import torch as pt\n",
    "from torch import flatten\n",
    "from os.path import join\n",
    "\n",
    "output_path = \"../output/SVD\"\n",
    "data_path = \"../data\"\n",
    "\n",
    "test_keys = ['ma0.84_alpha5.00', 'ma0.84_alpha4.50']"
   ]
  },
  {
   "attachments": {},
   "cell_type": "markdown",
   "metadata": {},
   "source": [
    "#### 1. Load test datasets"
   ]
  },
  {
   "cell_type": "code",
   "execution_count": 12,
   "metadata": {},
   "outputs": [
    {
     "data": {
      "text/plain": [
       "torch.Size([73935, 500])"
      ]
     },
     "execution_count": 12,
     "metadata": {},
     "output_type": "execute_result"
    }
   ],
   "source": [
    "cp_084_data = pt.load(join(data_path, \"cp_084_500snaps.pt\"))\n",
    "X_test_1= cp_084_data[test_keys[0]].flatten(0, 1)\n",
    "X_test_2 = cp_084_data[test_keys[1]].flatten(0, 1)\n",
    "\n",
    "X_test_1.shape\n",
    "X_test_2.shape"
   ]
  },
  {
   "attachments": {},
   "cell_type": "markdown",
   "metadata": {},
   "source": [
    "#### 2. Load the truncated left singular vectors $U_{reduced}$"
   ]
  },
  {
   "cell_type": "code",
   "execution_count": 13,
   "metadata": {},
   "outputs": [
    {
     "name": "stdout",
     "output_type": "stream",
     "text": [
      "torch.Size([2076, 73935])\n"
     ]
    }
   ],
   "source": [
    "# load the left singular vectors\n",
    "U_90 = pt.load(join(output_path, \"U_90.pt\"))\n",
    "U_opt = pt.load(join(output_path, \"U_opt.pt\"))\n",
    "\n",
    "U_90_T = pt.transpose(U_90, 0, 1)\n",
    "print(U_90_T.shape)"
   ]
  },
  {
   "attachments": {},
   "cell_type": "markdown",
   "metadata": {},
   "source": [
    "#### 3. Transform the test data into the reduced state with $$ X_{test,reduced} = U_{reduced}^T X_{test} $$"
   ]
  },
  {
   "cell_type": "code",
   "execution_count": 24,
   "metadata": {},
   "outputs": [],
   "source": [
    "X_test_1_reduced = pt.transpose(U_opt, 0, 1) @ X_test_1\n",
    "\n",
    "X_test_2_reduced = pt.transpose(U_opt, 0, 1) @ X_test_2 "
   ]
  },
  {
   "attachments": {},
   "cell_type": "markdown",
   "metadata": {},
   "source": [
    "#### 4. Reconstruct the reduced test data $ X_{test,reduced} $ with $$ X_{test,reconstr} = U_{reduced} X_{test,reduced}$$"
   ]
  },
  {
   "cell_type": "code",
   "execution_count": 25,
   "metadata": {},
   "outputs": [
    {
     "data": {
      "text/plain": [
       "torch.Size([73935, 500])"
      ]
     },
     "execution_count": 25,
     "metadata": {},
     "output_type": "execute_result"
    }
   ],
   "source": [
    "X_test_1_reconstr = U_opt @ X_test_1_reduced\n",
    "X_test_1_reconstr.shape\n",
    "\n",
    "X_test_2_reconstr = U_opt @ X_test_2_reduced\n",
    "X_test_2_reconstr.shape"
   ]
  },
  {
   "attachments": {},
   "cell_type": "markdown",
   "metadata": {},
   "source": [
    "#### 5. Compare the reconstructed test set with the original test set using appropriate metrics, such as MSE $$ MSE = mean((X_{test} - X_{test,reconstr})^2) $$"
   ]
  },
  {
   "cell_type": "code",
   "execution_count": 34,
   "metadata": {},
   "outputs": [
    {
     "name": "stdout",
     "output_type": "stream",
     "text": [
      "The MSE between the original test data 1 and the reconstructed test data 1 is:    0.01967\n",
      "The MSE between the original test data 1 and the reconstructed test data 1 is:    0.019\n"
     ]
    }
   ],
   "source": [
    "MSE_1 = pt.mean((X_test_1 - X_test_1_reconstr) ** 2)\n",
    "print(\"The MSE between the original test data 1 and the reconstructed test data 1 is:   \", round(MSE_1.item(), 5))\n",
    "\n",
    "MSE_2 = pt.mean((X_test_2 - X_test_2_reconstr) ** 2)\n",
    "print(\"The MSE between the original test data 1 and the reconstructed test data 1 is:   \", round(MSE_2.item(), 5))"
   ]
  },
  {
   "attachments": {},
   "cell_type": "markdown",
   "metadata": {},
   "source": [
    "#### or the Variance reconstruction in %"
   ]
  },
  {
   "cell_type": "code",
   "execution_count": 35,
   "metadata": {},
   "outputs": [
    {
     "name": "stdout",
     "output_type": "stream",
     "text": [
      "For test data 1,  89.86 % of variance could be reconstructed\n",
      "For test data 2,  89.82 % of variance could be reconstructed\n"
     ]
    }
   ],
   "source": [
    "total_variance = pt.sum((X_test_1 - pt.mean(X_test_1)) ** 2)\n",
    "residual_variance = pt.sum((X_test_1 - X_test_1_reconstr) ** 2)\n",
    "explained_variance = total_variance - residual_variance\n",
    "\n",
    "percentage_reconstruction = (explained_variance / total_variance) * 100\n",
    "print(\"For test data 1, \", round(percentage_reconstruction.item(), 2), \"% of variance could be reconstructed\")\n",
    "\n",
    "total_variance = pt.sum((X_test_2 - pt.mean(X_test_2)) ** 2)\n",
    "residual_variance = pt.sum((X_test_2 - X_test_2_reconstr) ** 2)\n",
    "explained_variance = total_variance - residual_variance\n",
    "\n",
    "percentage_reconstruction = (explained_variance / total_variance) * 100\n",
    "print(\"For test data 2, \", round(percentage_reconstruction.item(), 2), \"% of variance could be reconstructed\")"
   ]
  }
 ],
 "metadata": {
  "kernelspec": {
   "display_name": "Python 3",
   "language": "python",
   "name": "python3"
  },
  "language_info": {
   "codemirror_mode": {
    "name": "ipython",
    "version": 3
   },
   "file_extension": ".py",
   "mimetype": "text/x-python",
   "name": "python",
   "nbconvert_exporter": "python",
   "pygments_lexer": "ipython3",
   "version": "3.10.11"
  },
  "orig_nbformat": 4
 },
 "nbformat": 4,
 "nbformat_minor": 2
}
