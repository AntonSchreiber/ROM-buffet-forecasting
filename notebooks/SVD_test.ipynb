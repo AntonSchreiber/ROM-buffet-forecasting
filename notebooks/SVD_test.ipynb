{
 "cells": [
  {
   "cell_type": "code",
   "execution_count": null,
   "metadata": {},
   "outputs": [],
   "source": [
    "from pathlib import Path\n",
    "import os\n",
    "import torch as pt\n",
    "from torch import flatten\n",
    "from flowtorch.analysis import SVD\n",
    "import random\n",
    "import matplotlib.pyplot as plt\n",
    "from os.path import join\n",
    "\n",
    "random.seed(10)\n",
    "plt.rcParams[\"figure.dpi\"] = 180\n",
    "\n",
    "DATA_PATH = join(Path(os.path.abspath('')).parent, \"data\", \"SVD\")\n",
    "OUTPUT_PATH = join(Path(os.path.abspath('')).parent, \"output\", \"SVD\")"
   ]
  },
  {
   "cell_type": "markdown",
   "metadata": {},
   "source": [
    "- reduce"
   ]
  }
 ],
 "metadata": {
  "kernelspec": {
   "display_name": "Python 3",
   "language": "python",
   "name": "python3"
  },
  "language_info": {
   "name": "python",
   "version": "3.10.11"
  },
  "orig_nbformat": 4
 },
 "nbformat": 4,
 "nbformat_minor": 2
}
