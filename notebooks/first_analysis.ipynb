{
 "cells": [
  {
   "cell_type": "markdown",
   "id": "3ad62a70-4268-4b4f-9878-b7ff356aae8a",
   "metadata": {},
   "source": [
    "# First exploration of the IPSP data"
   ]
  },
  {
   "cell_type": "code",
   "execution_count": null,
   "id": "d97788a0-428e-404d-9ba7-77d7bade6471",
   "metadata": {},
   "outputs": [],
   "source": [
    "from os import makedirs\n",
    "from os.path import join\n",
    "import torch as pt\n",
    "import numpy as np\n",
    "import matplotlib.pyplot as plt\n",
    "\n",
    "plt.rcParams[\"figure.dpi\"] = 180\n",
    "output_path = \"output\"\n",
    "data_path = \"../data\"\n",
    "makedirs(output_path, exist_ok=True)"
   ]
  },
  {
   "cell_type": "code",
   "execution_count": null,
   "id": "cfc6b715-b193-4405-b24e-1959d66f8b1e",
   "metadata": {},
   "outputs": [],
   "source": [
    "cp = pt.load(join(data_path, \"cp_clean.pt\"))\n",
    "coords = pt.load(join(data_path, \"coords.pt\"))"
   ]
  },
  {
   "cell_type": "code",
   "execution_count": null,
   "id": "8e8b85f8-4383-490c-b3c1-8c268abad7a5",
   "metadata": {},
   "outputs": [],
   "source": [
    "cp.keys()"
   ]
  },
  {
   "cell_type": "code",
   "execution_count": null,
   "id": "5aadc635-e79c-4541-bca9-880b3010ecf2",
   "metadata": {},
   "outputs": [],
   "source": [
    "keys_084 = [key for key in cp.keys() if \"0.84\" in key]\n",
    "keys_090 = [key for key in cp.keys() if \"0.90\" in key]"
   ]
  },
  {
   "cell_type": "code",
   "execution_count": null,
   "id": "08ae18a2-ce32-41aa-b4a8-f86b2fee6240",
   "metadata": {},
   "outputs": [],
   "source": [
    "keys_084"
   ]
  },
  {
   "cell_type": "code",
   "execution_count": null,
   "id": "4eb36938-e0bf-4ef4-a3c3-c35d10188385",
   "metadata": {},
   "outputs": [],
   "source": [
    "keys_090"
   ]
  },
  {
   "cell_type": "code",
   "execution_count": null,
   "id": "87577eb8-d262-4b29-95e9-66c3787c80d6",
   "metadata": {},
   "outputs": [],
   "source": [
    "# the shape of every dataset id N_x x N_y x N_t\n",
    "cp_test = cp[\"ma0.84_alpha4.00\"]\n",
    "cp_test.shape"
   ]
  },
  {
   "cell_type": "code",
   "execution_count": null,
   "id": "ec977d6e-d3d2-4644-90cd-20d2c7134d2f",
   "metadata": {},
   "outputs": [],
   "source": [
    "# plot mean and standard deviation\n",
    "fig, (ax1, ax2) = plt.subplots(1, 2, figsize=(7, 3), sharex=True, sharey=True)\n",
    "x, y = coords[\"ma0.84_alpha4.00\"]\n",
    "cont1 = ax1.contourf(x, y, cp_test.mean(dim=-1))\n",
    "plt.colorbar(cont1, ax=ax1, label=r\"$\\mu_{c_p}$\")\n",
    "ax1.set_title(\"temporal mean\")\n",
    "cont2 = ax2.contourf(x, y, cp_test.std(dim=-1), vmin=0.0, vmax=0.25)\n",
    "plt.colorbar(cont2, ax=ax2, label=r\"$\\sigma_{c_p}$\")\n",
    "ax2.set_title(\"temporal std.\")\n",
    "for ax in (ax1, ax2):\n",
    "    ax.set_aspect(\"equal\")\n",
    "    ax.set_xticklabels([])\n",
    "    ax.set_yticklabels([])\n",
    "plt.savefig(join(output_path, \"ma084_alpha400_mean_std.png\"), bbox_inches=\"tight\")\n",
    "plt.show()"
   ]
  },
  {
   "cell_type": "code",
   "execution_count": null,
   "id": "5ff43bb1-7700-4eed-88c7-00859b37e5f7",
   "metadata": {},
   "outputs": [],
   "source": []
  }
 ],
 "metadata": {
  "kernelspec": {
   "display_name": "Python 3 (ipykernel)",
   "language": "python",
   "name": "python3"
  },
  "language_info": {
   "codemirror_mode": {
    "name": "ipython",
    "version": 3
   },
   "file_extension": ".py",
   "mimetype": "text/x-python",
   "name": "python",
   "nbconvert_exporter": "python",
   "pygments_lexer": "ipython3",
   "version": "3.10.6"
  }
 },
 "nbformat": 4,
 "nbformat_minor": 5
}
