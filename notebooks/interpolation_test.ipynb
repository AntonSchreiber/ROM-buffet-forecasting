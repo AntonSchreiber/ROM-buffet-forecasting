{
 "cells": [
  {
   "attachments": {},
   "cell_type": "markdown",
   "metadata": {},
   "source": [
    "# Interpolation Testing\n",
    "#### Downscale snapshot resolution from (465 x 159) to (256 x 128)"
   ]
  },
  {
   "cell_type": "code",
   "execution_count": null,
   "metadata": {},
   "outputs": [],
   "source": [
    "import os\n",
    "from os.path import join\n",
    "import sys\n",
    "from pathlib import Path\n",
    "import torch as pt\n",
    "import matplotlib.pyplot as plt\n",
    "\n",
    "# include app directory into sys.path\n",
    "parent_dir = Path(os.path.abspath('')).parent\n",
    "app_dir = join(parent_dir, \"app\")\n",
    "if app_dir not in sys.path:\n",
    "      sys.path.append(app_dir)\n",
    "\n",
    "from utils import config\n",
    "\n",
    "# increase plot resolution\n",
    "plt.rcParams[\"figure.dpi\"] = 180\n",
    "\n",
    "# define paths\n",
    "DATA_PATH = Path(os.path.abspath('')).parent / \"data\"\n",
    "OUTPUT_PATH = Path(os.path.abspath('')).parent / \"output\" / \"Interpolation\"\n",
    "\n",
    "# define original resolution and target resolution\n",
    "ORIG_SHAPE = config.orig_resolution\n",
    "TARGET_SHAPE = config.target_resolution"
   ]
  },
  {
   "attachments": {},
   "cell_type": "markdown",
   "metadata": {},
   "source": [
    "#### Load coordinates and data"
   ]
  },
  {
   "cell_type": "code",
   "execution_count": null,
   "metadata": {},
   "outputs": [],
   "source": [
    "# load original coord grid\n",
    "coords = pt.load(join(DATA_PATH, \"coords.pt\"))\n",
    "xx_orig, yy_orig = coords[list(coords.keys())[0]]\n",
    "\n",
    "# load interpolated coord grid\n",
    "coords = pt.load(join(DATA_PATH, \"coords_interp.pt\"))\n",
    "xx_new, yy_new = coords\n",
    "\n",
    "# load original dataset\n",
    "data = pt.load(join(DATA_PATH, \"cp_084_500snaps.pt\"))\n",
    "slice_orig = data['ma0.84_alpha5.00'][:,:, config.timestep_reconstruction]\n",
    "\n",
    "# load interpolated dataset\n",
    "data = pt.load(join(DATA_PATH, \"cp_084_500snaps_interp.pt\"))\n",
    "slice_new = data['ma0.84_alpha5.00'][:,:, config.timestep_reconstruction]"
   ]
  },
  {
   "attachments": {},
   "cell_type": "markdown",
   "metadata": {},
   "source": [
    "#### Compare grid resolution"
   ]
  },
  {
   "cell_type": "code",
   "execution_count": null,
   "metadata": {},
   "outputs": [],
   "source": [
    "# construct values for visualisation that look like a grid\n",
    "data_orig = pt.tensor([[1 if i%8 == 0 or j%8 == 0 or j == ORIG_SHAPE[1] - 1 else 0 for i in range(ORIG_SHAPE[0])] for j in range(ORIG_SHAPE[1])]).transpose(0, 1)\n",
    "data_new = pt.tensor([[1 if i%8 == 0 or j%8 == 0 or j == TARGET_SHAPE[1] - 1 else 0 for i in range(TARGET_SHAPE[0])] for j in range(TARGET_SHAPE[1])]).transpose(0, 1)\n",
    "\n",
    "fig, (ax1, ax2) = plt.subplots(1, 2, sharey=True)\n",
    "\n",
    "levels = [0.01, 0.99]\n",
    "ax1.contourf(xx_orig, yy_orig, data_orig, levels=levels, cmap=\"Greys\", extend=\"both\")\n",
    "ax2.contourf(xx_new, yy_new, data_new, levels=levels, cmap=\"Greys\", extend=\"both\")\n",
    "\n",
    "for ax in [ax1, ax2]:\n",
    "    ax.set_aspect(\"equal\")\n",
    "    ax.set_xticklabels([])\n",
    "    ax.set_yticklabels([])\n",
    "\n",
    "ax1.set_title(\"Original grid (465 x 159)\")\n",
    "ax2.set_title(\"Interpolated grid (256 x 128)\")\n",
    "fig.tight_layout\n",
    "fig.savefig(join(OUTPUT_PATH, \"grid_interpolation.png\"))"
   ]
  },
  {
   "attachments": {},
   "cell_type": "markdown",
   "metadata": {},
   "source": [
    "#### Compare $c_p$-snapshot"
   ]
  },
  {
   "cell_type": "code",
   "execution_count": null,
   "metadata": {},
   "outputs": [],
   "source": [
    "fig, (ax1, ax2) = plt.subplots(1, 2, sharey=True)\n",
    "\n",
    "mean, std = slice_orig.mean(), slice_orig.std()\n",
    "vmin, vmax = mean - 2*std, mean + 2*std\n",
    "levels = pt.linspace(vmin, vmax, 120)\n",
    "\n",
    "ax1.contourf(xx_orig, yy_orig, slice_orig, vmin=vmin, vmax=vmax,levels=levels, extend=\"both\")\n",
    "cont = ax2.contourf(xx_new, yy_new, slice_new, vmin=vmin, vmax=vmax, levels=levels, extend=\"both\")\n",
    "\n",
    "for ax in [ax1, ax2]:\n",
    "    ax.set_aspect(\"equal\")\n",
    "    ax.set_xticklabels([])\n",
    "    ax.set_yticklabels([])\n",
    "\n",
    "# fig.colorbar(cont)\n",
    "ax1.set_title(\"Original data (465 x 159)\")\n",
    "ax2.set_title(\"Interpolated data (256 x 128)\")\n",
    "fig.tight_layout\n",
    "fig.savefig(join(OUTPUT_PATH, \"interpolation_comparison.png\"))"
   ]
  }
 ],
 "metadata": {
  "kernelspec": {
   "display_name": "Python 3",
   "language": "python",
   "name": "python3"
  },
  "language_info": {
   "codemirror_mode": {
    "name": "ipython",
    "version": 3
   },
   "file_extension": ".py",
   "mimetype": "text/x-python",
   "name": "python",
   "nbconvert_exporter": "python",
   "pygments_lexer": "ipython3",
   "version": "3.11.5"
  },
  "orig_nbformat": 4
 },
 "nbformat": 4,
 "nbformat_minor": 2
}
