{
 "cells": [
  {
   "cell_type": "code",
   "execution_count": null,
   "metadata": {},
   "outputs": [],
   "source": [
    "import os\n",
    "from os.path import join\n",
    "import sys\n",
    "from pathlib import Path\n",
    "\n",
    "# include app directory into sys.path\n",
    "parent_dir = Path(os.path.abspath('')).parent\n",
    "app_dir = join(parent_dir, \"app\")\n",
    "if app_dir not in sys.path:\n",
    "      sys.path.append(app_dir)\n",
    "\n",
    "import torch as pt\n",
    "import matplotlib.pyplot as plt\n",
    "import utils.config as config\n",
    "\n",
    "plt.rcParams[\"figure.dpi\"] = 180\n",
    "\n",
    "PRED_HORIZON = 64\n",
    "\n",
    "VAE_PATH = join(parent_dir, \"output\", \"VAE\", \"latent_study\", config.VAE_model)\n",
    "OUTPUT_PATH = join(parent_dir, \"output\", \"VAE_FC\", \"param_study\")\n",
    "MODEL_PATH = join(parent_dir, \"output\", \"VAE_FC\", \"param_study\", f\"pred_horizon_{PRED_HORIZON}\")"
   ]
  },
  {
   "cell_type": "code",
   "execution_count": null,
   "metadata": {},
   "outputs": [],
   "source": [
    "# load study results\n",
    "study_results = pt.load(join(MODEL_PATH, \"study_results.pt\"))\n",
    "param_combinations = list(study_results.keys())\n",
    "\n",
    "# find parameter combinations of study and extract test loss\n",
    "input_width = [int(param_set.split('_')[0]) for param_set in param_combinations]\n",
    "hidden_size = [int(param_set.split('_')[1]) for param_set in param_combinations]\n",
    "n_hidden = [int(param_set.split('_')[2]) for param_set in param_combinations]\n",
    "test_losses = [study_results[param_set][0][\"val_loss\"].values[-10:].mean() for param_set in param_combinations]\n",
    "\n",
    "# Sort the indexed losses based on the values (ascending order)\n",
    "sorted_losses = sorted(list(enumerate(test_losses)), key=lambda x: x[1])\n",
    "lowest_loss_idx = [index for index, _ in sorted_losses[:5]]"
   ]
  },
  {
   "cell_type": "markdown",
   "metadata": {},
   "source": [
    "#### Parameter Combination Scatter Plot"
   ]
  },
  {
   "cell_type": "code",
   "execution_count": null,
   "metadata": {},
   "outputs": [],
   "source": [
    "print(\"The param combinations with the lowest loss: [input_width, hidden_size, n_hidden]\")\n",
    "print([param_combinations[i] for i in lowest_loss_idx]) \n",
    "\n",
    "# Create a 3D scatter plot\n",
    "fig = plt.figure()\n",
    "ax = fig.add_subplot(111, projection='3d')\n",
    "ax.scatter(input_width, hidden_size, n_hidden, c=test_losses, cmap='viridis', s=100)\n",
    "ax.set_xlabel(\"input width\")\n",
    "ax.set_xticks([32])\n",
    "ax.set_ylabel(\"hidden layer neurons\")\n",
    "ax.set_zlabel(\"hidden layers\")\n",
    "\n",
    "cbar = plt.colorbar(ax.scatter(input_width, hidden_size, n_hidden, c=test_losses, cmap='viridis'), pad=0.15)\n",
    "cbar.set_label('Test Loss')\n",
    "fig.tight_layout()\n",
    "fig.savefig(join(OUTPUT_PATH, f\"VAE_FC_predhor{PRED_HORIZON}_param_study.png\"))\n"
   ]
  },
  {
   "cell_type": "markdown",
   "metadata": {},
   "source": [
    "#### Prediction Horizon 1\n",
    "- medium input sequence length          45\n",
    "- medium hidden size                    256\n",
    "- less hidden layers perform better     1"
   ]
  },
  {
   "cell_type": "markdown",
   "metadata": {},
   "source": [
    "#### Prediction Horizon 2\n",
    "- medium input sequence length          45\n",
    "- medium hidden size                    256\n",
    "- less hidden layers perform better     1"
   ]
  },
  {
   "cell_type": "markdown",
   "metadata": {},
   "source": [
    "#### Prediction Horizon 6\n",
    "- medium input sequence length          40\n",
    "- medium hidden size                    256\n",
    "- less hidden layers perform better     1"
   ]
  },
  {
   "cell_type": "markdown",
   "metadata": {},
   "source": [
    "#### Prediction Horizon 25\n",
    "- large input sequence length           55\n",
    "- medium hidden size                    256\n",
    "- medium n hidden layers                3"
   ]
  },
  {
   "cell_type": "markdown",
   "metadata": {},
   "source": [
    "#### Prediction Horizon 64\n",
    "- 32\n",
    "- 128\n",
    "- 5"
   ]
  }
 ],
 "metadata": {
  "kernelspec": {
   "display_name": "Python 3",
   "language": "python",
   "name": "python3"
  },
  "language_info": {
   "codemirror_mode": {
    "name": "ipython",
    "version": 3
   },
   "file_extension": ".py",
   "mimetype": "text/x-python",
   "name": "python",
   "nbconvert_exporter": "python",
   "pygments_lexer": "ipython3",
   "version": "3.10.11"
  },
  "orig_nbformat": 4
 },
 "nbformat": 4,
 "nbformat_minor": 2
}
