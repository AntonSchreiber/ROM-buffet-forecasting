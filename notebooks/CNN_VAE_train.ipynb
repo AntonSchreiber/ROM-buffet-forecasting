{
 "cells": [
  {
   "attachments": {},
   "cell_type": "markdown",
   "metadata": {},
   "source": [
    "# Convolutional Variational Autoencoder (CNN-VAE)"
   ]
  },
  {
   "cell_type": "code",
   "execution_count": null,
   "metadata": {},
   "outputs": [],
   "source": [
    "import sys\n",
    "import os\n",
    "from os.path import join\n",
    "parent_dir = os.path.abspath(join(os.getcwd(), os.pardir))\n",
    "app_dir = join(parent_dir, \"app\")\n",
    "if app_dir not in sys.path:\n",
    "      sys.path.append(app_dir)\n",
    "\n",
    "from pathlib import Path\n",
    "import torch as pt\n",
    "import torch.nn as nn\n",
    "import numpy as np\n",
    "from torch.utils.data import DataLoader\n",
    "from CNN_VAE import ConvDecoder, ConvEncoder, Autoencoder\n",
    "from utils.training_loop import train_cnn_vae\n",
    "import utils.config as config\n",
    "from sklearn import metrics\n",
    "import matplotlib.pyplot as plt\n",
    "\n",
    "plt.rcParams[\"figure.dpi\"] = 180\n",
    "\n",
    "# use GPU if possible\n",
    "device = pt.device(\"cuda:0\") if pt.cuda.is_available() else pt.device(\"cpu\")\n",
    "\n",
    "DATA_PATH = Path(os.path.abspath('')).parent / \"data\"\n",
    "OUTPUT_PATH = Path(os.path.abspath('')).parent / \"output\" / \"VAE\""
   ]
  },
  {
   "attachments": {},
   "cell_type": "markdown",
   "metadata": {},
   "source": [
    "#### Initialize Autoencoder and additional parameters"
   ]
  },
  {
   "cell_type": "code",
   "execution_count": null,
   "metadata": {},
   "outputs": [],
   "source": [
    "# initialize CNN-VAE classes\n",
    "encoder = ConvEncoder(\n",
    "    in_size=config.target_resolution,\n",
    "    n_channels=config.input_channels,\n",
    "    n_latent=config.latent_size,\n",
    "    batchnorm=True,\n",
    "    variational=True\n",
    ")\n",
    "\n",
    "decoder = ConvDecoder(\n",
    "    in_size=config.target_resolution,\n",
    "    n_channels=config.output_channels,\n",
    "    n_latent=config.latent_size,\n",
    "    batchnorm=True,\n",
    "    squash_output=True\n",
    ")\n",
    "\n",
    "autoencoder = Autoencoder(encoder, decoder)\n",
    "autoencoder.to(device)"
   ]
  },
  {
   "attachments": {},
   "cell_type": "markdown",
   "metadata": {},
   "source": [
    "#### Load datasets and initialize dataloaders"
   ]
  },
  {
   "cell_type": "code",
   "execution_count": null,
   "metadata": {},
   "outputs": [],
   "source": [
    "train_dataset = pt.load(join(DATA_PATH, \"train_dataset.pt\"))\n",
    "val_dataset = pt.load(join(DATA_PATH, \"val_dataset.pt\"))\n",
    "test_dataset = pt.load(join(DATA_PATH, \"test_dataset.pt\"))\n",
    "\n",
    "train_loader = DataLoader(train_dataset, batch_size=config.batch_size, shuffle=True)\n",
    "val_loader = DataLoader(val_dataset, batch_size=config.batch_size, shuffle=True)\n",
    "test_loader = DataLoader(test_dataset, batch_size=config.batch_size, shuffle=True)"
   ]
  },
  {
   "attachments": {},
   "cell_type": "markdown",
   "metadata": {},
   "source": [
    "#### Initialize training metrics and objects"
   ]
  },
  {
   "cell_type": "code",
   "execution_count": null,
   "metadata": {},
   "outputs": [],
   "source": [
    "# optimizer\n",
    "optimizer = pt.optim.Adam(autoencoder.parameters(), lr=config.learning_rate)\n",
    "\n",
    "# checkpoint file\n",
    "checkpoint_file = join(OUTPUT_PATH, \"checkpoints\")\n",
    "\n",
    "# learning rate scheduler\n",
    "scheduler = pt.optim.lr_scheduler.ReduceLROnPlateau(optimizer=optimizer, mode=\"min\", factor=0.2)\n",
    "# mode=\"min\" means that the lr will be reduced when the MSE has stopped decreasing\n",
    "# factor states by which factor the lr will be reduced on stagnation\n",
    "\n",
    "test_result = train_cnn_vae(\n",
    "    model=autoencoder,\n",
    "    loss_func=nn.MSELoss(),\n",
    "    train_loader=train_loader,\n",
    "    val_loader=val_loader,\n",
    "    test_loader=test_loader,\n",
    "    epochs=config.epochs,\n",
    "    optimizer=optimizer,\n",
    "    lr_schedule=scheduler\n",
    ")"
   ]
  },
  {
   "attachments": {},
   "cell_type": "markdown",
   "metadata": {},
   "source": [
    "#### Plot loss over epochs"
   ]
  },
  {
   "cell_type": "code",
   "execution_count": null,
   "metadata": {},
   "outputs": [],
   "source": [
    "plt.plot(test_result[\"epoch\"], test_result[\"train_loss\"], lw=1, label=\"training\")\n",
    "plt.plot(test_result[\"epoch\"], test_result[\"val_loss\"], lw=1, label=\"validation\")\n",
    "plt.plot(test_result[\"epoch\"], test_result[\"test_loss\"], lw=1, label=\"testing\")\n",
    "plt.yscale(\"log\")\n",
    "plt.xlim(0, config.epochs)\n",
    "plt.xlabel(\"epoch\")\n",
    "plt.ylabel(\"MSE\")\n",
    "plt.legend()\n",
    "plt.show()"
   ]
  },
  {
   "cell_type": "markdown",
   "metadata": {},
   "source": [
    "#### Make test predictions"
   ]
  },
  {
   "cell_type": "code",
   "execution_count": null,
   "metadata": {},
   "outputs": [],
   "source": [
    "# load coordinates\n",
    "coords = pt.load(join(DATA_PATH, \"coords_interp.pt\"))\n",
    "xx, yy = coords"
   ]
  },
  {
   "cell_type": "code",
   "execution_count": null,
   "metadata": {},
   "outputs": [],
   "source": [
    "def make_prediction(model, image):\n",
    "    return model(image.unsqueeze(0)).squeeze(0).squeeze(0).detach()"
   ]
  },
  {
   "cell_type": "code",
   "execution_count": null,
   "metadata": {},
   "outputs": [],
   "source": [
    "fig, axes = plt.subplots(2, 2)\n",
    "vmin, vmax = -1, 1\n",
    "levels = pt.linspace(vmin, vmax, 120)\n",
    "\n",
    "for i, row in enumerate(axes):\n",
    "    if i == 0:\n",
    "          row[0].set_title(\"Original\")\n",
    "          row[1].set_title(\"Encoded-Decoded\")\n",
    "\n",
    "    row[0].contourf(xx, yy, test_dataset[i].squeeze(0), vmin=vmin, vmax=vmax, levels = levels, extend=\"both\")\n",
    "    row[1].contourf(xx, yy, make_prediction(autoencoder, test_dataset[i]), vmin=vmin, vmax=vmax, levels = levels, extend=\"both\")\n",
    "    row[0].set_ylabel(\"Test Image {}\".format(i))\n",
    "\n",
    "    for ax in row:\n",
    "            ax.set_aspect(\"equal\")\n",
    "            ax.set_xticklabels([])\n",
    "            ax.set_yticklabels([])\n",
    "fig.tight_layout()"
   ]
  }
 ],
 "metadata": {
  "kernelspec": {
   "display_name": "Python 3",
   "language": "python",
   "name": "python3"
  },
  "language_info": {
   "codemirror_mode": {
    "name": "ipython",
    "version": 3
   },
   "file_extension": ".py",
   "mimetype": "text/x-python",
   "name": "python",
   "nbconvert_exporter": "python",
   "pygments_lexer": "ipython3",
   "version": "3.10.11"
  },
  "orig_nbformat": 4
 },
 "nbformat": 4,
 "nbformat_minor": 2
}
