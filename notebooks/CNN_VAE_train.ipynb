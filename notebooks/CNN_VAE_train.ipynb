{
 "cells": [
  {
   "attachments": {},
   "cell_type": "markdown",
   "metadata": {},
   "source": [
    "# Convolutional Variational Autoencoder (CNN-VAE)"
   ]
  },
  {
   "cell_type": "code",
   "execution_count": 9,
   "metadata": {},
   "outputs": [],
   "source": [
    "import sys\n",
    "import os\n",
    "from os.path import join\n",
    "parent_dir = os.path.abspath(join(os.getcwd(), os.pardir))\n",
    "app_dir = join(parent_dir, \"app\")\n",
    "if app_dir not in sys.path:\n",
    "      sys.path.append(app_dir)\n",
    "\n",
    "from pathlib import Path\n",
    "import torch as pt\n",
    "import torch.nn as nn\n",
    "import numpy as np\n",
    "from torch.utils.data import DataLoader\n",
    "from CNN_VAE import ConvDecoder, ConvEncoder, Autoencoder\n",
    "from utils.training_loop import train_cnn_vae\n",
    "import utils.config as config\n",
    "from sklearn import metrics\n",
    "\n",
    "# use GPU if possible\n",
    "device = pt.device(\"cuda:0\") if pt.cuda.is_available() else pt.device(\"cpu\")\n",
    "\n",
    "DATA_PATH = Path(os.path.abspath('')).parent / \"data\"\n",
    "OUTPUT_PATH = Path(os.path.abspath('')).parent / \"output\" / \"VAE\""
   ]
  },
  {
   "attachments": {},
   "cell_type": "markdown",
   "metadata": {},
   "source": [
    "#### Initialize Autoencoder and additional parameters"
   ]
  },
  {
   "cell_type": "code",
   "execution_count": 10,
   "metadata": {},
   "outputs": [
    {
     "data": {
      "text/plain": [
       "Autoencoder(\n",
       "  (_encoder): ConvEncoder(\n",
       "    (_layers): ModuleList(\n",
       "      (0): Conv2d(1, 64, kernel_size=(2, 2), stride=(2, 2))\n",
       "      (1): BatchNorm2d(64, eps=1e-05, momentum=0.1, affine=True, track_running_stats=True)\n",
       "      (2): Conv2d(64, 128, kernel_size=(2, 2), stride=(2, 2))\n",
       "      (3): BatchNorm2d(128, eps=1e-05, momentum=0.1, affine=True, track_running_stats=True)\n",
       "      (4): Conv2d(128, 256, kernel_size=(2, 2), stride=(2, 2))\n",
       "      (5): BatchNorm2d(256, eps=1e-05, momentum=0.1, affine=True, track_running_stats=True)\n",
       "      (6): Conv2d(256, 512, kernel_size=(2, 2), stride=(2, 2))\n",
       "      (7): BatchNorm2d(512, eps=1e-05, momentum=0.1, affine=True, track_running_stats=True)\n",
       "    )\n",
       "    (_latent_mean): Linear(in_features=65536, out_features=256, bias=True)\n",
       "    (_latent_log_var): Linear(in_features=65536, out_features=256, bias=True)\n",
       "  )\n",
       "  (_decoder): ConvDecoder(\n",
       "    (_layers): ModuleList(\n",
       "      (0): ConvTranspose2d(512, 256, kernel_size=(2, 2), stride=(2, 2))\n",
       "      (1): BatchNorm2d(256, eps=1e-05, momentum=0.1, affine=True, track_running_stats=True)\n",
       "      (2): ConvTranspose2d(256, 128, kernel_size=(2, 2), stride=(2, 2))\n",
       "      (3): BatchNorm2d(128, eps=1e-05, momentum=0.1, affine=True, track_running_stats=True)\n",
       "      (4): ConvTranspose2d(128, 64, kernel_size=(2, 2), stride=(2, 2))\n",
       "      (5): BatchNorm2d(64, eps=1e-05, momentum=0.1, affine=True, track_running_stats=True)\n",
       "      (6): ConvTranspose2d(64, 1, kernel_size=(2, 2), stride=(2, 2))\n",
       "      (7): BatchNorm2d(1, eps=1e-05, momentum=0.1, affine=True, track_running_stats=True)\n",
       "    )\n",
       "    (_latent): Linear(in_features=256, out_features=65536, bias=True)\n",
       "  )\n",
       ")"
      ]
     },
     "execution_count": 10,
     "metadata": {},
     "output_type": "execute_result"
    }
   ],
   "source": [
    "# initialize CNN-VAE classes\n",
    "encoder = ConvEncoder(\n",
    "    in_size=config.target_resolution,\n",
    "    n_channels=config.input_channels,\n",
    "    n_latent=config.latent_size,\n",
    "    batchnorm=True,\n",
    "    variational=True\n",
    ")\n",
    "\n",
    "decoder = ConvDecoder(\n",
    "    in_size=config.target_resolution,\n",
    "    n_channels=config.output_channels,\n",
    "    n_latent=config.latent_size,\n",
    "    batchnorm=True,\n",
    "    squash_output=True\n",
    ")\n",
    "\n",
    "autoencoder = Autoencoder(encoder, decoder)\n",
    "autoencoder.to(device)"
   ]
  },
  {
   "attachments": {},
   "cell_type": "markdown",
   "metadata": {},
   "source": [
    "#### Load datasets and initialize dataloaders"
   ]
  },
  {
   "cell_type": "code",
   "execution_count": 11,
   "metadata": {},
   "outputs": [],
   "source": [
    "train_dataset = pt.load(join(DATA_PATH, \"train_dataset.pt\"))\n",
    "val_dataset = pt.load(join(DATA_PATH, \"val_dataset.pt\"))\n",
    "test_dataset = pt.load(join(DATA_PATH, \"test_dataset.pt\"))\n",
    "\n",
    "train_loader = DataLoader(train_dataset, batch_size=config.batch_size, shuffle=True)\n",
    "val_loader = DataLoader(val_dataset, batch_size=config.batch_size, shuffle=True)\n",
    "test_loader = DataLoader(test_dataset, batch_size=config.batch_size, shuffle=True)"
   ]
  },
  {
   "attachments": {},
   "cell_type": "markdown",
   "metadata": {},
   "source": [
    "#### Initialize training metrics and objects"
   ]
  },
  {
   "cell_type": "code",
   "execution_count": 12,
   "metadata": {},
   "outputs": [
    {
     "ename": "ValueError",
     "evalue": "too many values to unpack (expected 2)",
     "output_type": "error",
     "traceback": [
      "\u001b[0;31m---------------------------------------------------------------------------\u001b[0m",
      "\u001b[0;31mValueError\u001b[0m                                Traceback (most recent call last)",
      "Cell \u001b[0;32mIn[12], line 11\u001b[0m\n\u001b[1;32m      4\u001b[0m \u001b[39m# define score functions\u001b[39;00m\n\u001b[1;32m      5\u001b[0m score_funcs \u001b[39m=\u001b[39m {\n\u001b[1;32m      6\u001b[0m     \u001b[39m\"\u001b[39m\u001b[39mLmax\u001b[39m\u001b[39m\"\u001b[39m  : metrics\u001b[39m.\u001b[39mmax_error,\n\u001b[1;32m      7\u001b[0m     \u001b[39m\"\u001b[39m\u001b[39mL1\u001b[39m\u001b[39m\"\u001b[39m    : metrics\u001b[39m.\u001b[39mmean_absolute_error,\n\u001b[1;32m      8\u001b[0m     \u001b[39m\"\u001b[39m\u001b[39mR2\u001b[39m\u001b[39m\"\u001b[39m    : metrics\u001b[39m.\u001b[39mr2_score\n\u001b[1;32m      9\u001b[0m }\n\u001b[0;32m---> 11\u001b[0m test_result \u001b[39m=\u001b[39m train_cnn_vae(\n\u001b[1;32m     12\u001b[0m     model\u001b[39m=\u001b[39;49mautoencoder,\n\u001b[1;32m     13\u001b[0m     loss_func\u001b[39m=\u001b[39;49mnn\u001b[39m.\u001b[39;49mMSELoss(),\n\u001b[1;32m     14\u001b[0m     train_loader\u001b[39m=\u001b[39;49mtrain_loader,\n\u001b[1;32m     15\u001b[0m     val_loader\u001b[39m=\u001b[39;49mval_loader,\n\u001b[1;32m     16\u001b[0m     test_loader\u001b[39m=\u001b[39;49mtest_loader,\n\u001b[1;32m     17\u001b[0m     score_funcs\u001b[39m=\u001b[39;49mscore_funcs,\n\u001b[1;32m     18\u001b[0m     epochs\u001b[39m=\u001b[39;49mconfig\u001b[39m.\u001b[39;49mepochs,\n\u001b[1;32m     19\u001b[0m     optimizer\u001b[39m=\u001b[39;49moptimizer\n\u001b[1;32m     20\u001b[0m )\n\u001b[1;32m     22\u001b[0m \u001b[39m# Expected 3D (unbatched) or 4D (batched) input to conv2d, but got input of size: [32, 3]\u001b[39;00m\n\u001b[1;32m     23\u001b[0m \u001b[39m# needs input data of dimension BxCxHxW (batch size, channels, height, and width)\u001b[39;00m\n",
      "File \u001b[0;32m~/repositories/Studienarbeit/app/utils/training_loop.py:197\u001b[0m, in \u001b[0;36mtrain_cnn_vae\u001b[0;34m(model, loss_func, train_loader, val_loader, test_loader, score_funcs, epochs, device, checkpoint_file, log_all, lr_schedule, optimizer)\u001b[0m\n\u001b[1;32m    194\u001b[0m \u001b[39mfor\u001b[39;00m e \u001b[39min\u001b[39;00m \u001b[39mrange\u001b[39m(epochs):\n\u001b[1;32m    195\u001b[0m     \u001b[39m# model update\u001b[39;00m\n\u001b[1;32m    196\u001b[0m     model \u001b[39m=\u001b[39m model\u001b[39m.\u001b[39mtrain()\n\u001b[0;32m--> 197\u001b[0m     total_train_time \u001b[39m+\u001b[39m\u001b[39m=\u001b[39m run_epoch_cnn_vae(\n\u001b[1;32m    198\u001b[0m         model, optimizer, train_loader, loss_func, device,\n\u001b[1;32m    199\u001b[0m         results, score_funcs, prefix\u001b[39m=\u001b[39;49m\u001b[39m\"\u001b[39;49m\u001b[39mtrain\u001b[39;49m\u001b[39m\"\u001b[39;49m\n\u001b[1;32m    200\u001b[0m     )\n\u001b[1;32m    201\u001b[0m     results[\u001b[39m\"\u001b[39m\u001b[39mepoch\u001b[39m\u001b[39m\"\u001b[39m]\u001b[39m.\u001b[39mappend(e)\n\u001b[1;32m    202\u001b[0m     results[\u001b[39m\"\u001b[39m\u001b[39mtotal_time\u001b[39m\u001b[39m\"\u001b[39m]\u001b[39m.\u001b[39mappend(total_train_time)\n",
      "File \u001b[0;32m~/repositories/Studienarbeit/app/utils/training_loop.py:35\u001b[0m, in \u001b[0;36mrun_epoch_cnn_vae\u001b[0;34m(model, optimizer, data_loader, loss_func, device, results, score_funcs, prefix)\u001b[0m\n\u001b[1;32m     32\u001b[0m start_time \u001b[39m=\u001b[39m time()\n\u001b[1;32m     34\u001b[0m \u001b[39m# loop over all batches\u001b[39;00m\n\u001b[0;32m---> 35\u001b[0m \u001b[39mfor\u001b[39;00m features, labels \u001b[39min\u001b[39;00m data_loader:\n\u001b[1;32m     36\u001b[0m     features, labels \u001b[39m=\u001b[39m features\u001b[39m.\u001b[39mto(device), labels\u001b[39m.\u001b[39mto(device)\n\u001b[1;32m     37\u001b[0m     pred \u001b[39m=\u001b[39m model(labels)\n",
      "\u001b[0;31mValueError\u001b[0m: too many values to unpack (expected 2)"
     ]
    }
   ],
   "source": [
    "# optimizer\n",
    "optimizer = pt.optim.Adam(autoencoder.parameters(), lr=config.learning_rate)\n",
    "\n",
    "# define score functions\n",
    "score_funcs = {\n",
    "    \"Lmax\"  : metrics.max_error,\n",
    "    \"L1\"    : metrics.mean_absolute_error,\n",
    "    \"R2\"    : metrics.r2_score\n",
    "}\n",
    "\n",
    "test_result = train_cnn_vae(\n",
    "    model=autoencoder,\n",
    "    loss_func=nn.MSELoss(),\n",
    "    train_loader=train_loader,\n",
    "    val_loader=val_loader,\n",
    "    test_loader=test_loader,\n",
    "    score_funcs=score_funcs,\n",
    "    epochs=config.epochs,\n",
    "    optimizer=optimizer\n",
    ")"
   ]
  }
 ],
 "metadata": {
  "kernelspec": {
   "display_name": "Python 3",
   "language": "python",
   "name": "python3"
  },
  "language_info": {
   "codemirror_mode": {
    "name": "ipython",
    "version": 3
   },
   "file_extension": ".py",
   "mimetype": "text/x-python",
   "name": "python",
   "nbconvert_exporter": "python",
   "pygments_lexer": "ipython3",
   "version": "3.10.11"
  },
  "orig_nbformat": 4
 },
 "nbformat": 4,
 "nbformat_minor": 2
}
