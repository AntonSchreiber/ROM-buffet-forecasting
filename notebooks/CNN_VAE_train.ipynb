{
 "cells": [
  {
   "attachments": {},
   "cell_type": "markdown",
   "metadata": {},
   "source": [
    "# Convolutional Variational Autoencoder (CNN-VAE)"
   ]
  },
  {
   "cell_type": "code",
   "execution_count": 5,
   "metadata": {},
   "outputs": [],
   "source": [
    "import sys\n",
    "import os\n",
    "parent_dir = os.path.abspath(os.path.join(os.getcwd(), os.pardir))\n",
    "app_dir = os.path.join(parent_dir, \"app\")\n",
    "if app_dir not in sys.path:\n",
    "      sys.path.append(app_dir)\n",
    "\n",
    "import torch\n",
    "import torch.nn as nn\n",
    "import numpy as np\n",
    "from torch.utils.data import DataLoader\n",
    "from CNN_VAE import ConvDecoder, ConvEncoder, Autoencoder\n",
    "from utils.training_loop import train_cnn_vae\n",
    "import utils.config as config\n",
    "\n",
    "# use GPU if possible\n",
    "device = torch.device(\"cuda:0\") if torch.cuda.is_available() else torch.device(\"cpu\")"
   ]
  },
  {
   "attachments": {},
   "cell_type": "markdown",
   "metadata": {},
   "source": [
    "#### Initialize Autoencoder and additional parameters"
   ]
  },
  {
   "cell_type": "code",
   "execution_count": null,
   "metadata": {},
   "outputs": [],
   "source": [
    "# initialize CNN-VAE classes\n",
    "encoder = ConvEncoder(\n",
    "    in_size=config.target_resolution,\n",
    "    n_channels=config.input_channels,\n",
    "    n_latent=config.latent_size,\n",
    "    batchnorm=True,\n",
    "    variational=True\n",
    ")\n",
    "\n",
    "decoder = ConvDecoder(\n",
    "    in_size=config.target_resolution,\n",
    "    n_channels=config.output_channels,\n",
    "    n_latent=config.latent_size,\n",
    "    batchnorm=True,\n",
    "    squash_output=True\n",
    ")\n",
    "\n",
    "autoencoder = Autoencoder(encoder, decoder)\n",
    "autoencoder.to(device)\n",
    "\n",
    "# loss function\n",
    "loss_func = nn.MSELoss()\n",
    "\n",
    "# optimizer\n",
    "optimizer = torch.optim.Adam(autoencoder.parameters(), lr=config.learning_rate)\n",
    "\n",
    "# define lists for training and validation losses \n",
    "train_losses = []\n",
    "valid_losses = []\n",
    "\n",
    "\n",
    "for epoch in range(config.epochs):\n",
    "    print(f\"Epoch {epoch+1} of {config.epochs}\")"
   ]
  }
 ],
 "metadata": {
  "kernelspec": {
   "display_name": "Python 3",
   "language": "python",
   "name": "python3"
  },
  "language_info": {
   "codemirror_mode": {
    "name": "ipython",
    "version": 3
   },
   "file_extension": ".py",
   "mimetype": "text/x-python",
   "name": "python",
   "nbconvert_exporter": "python",
   "pygments_lexer": "ipython3",
   "version": "3.10.11"
  },
  "orig_nbformat": 4
 },
 "nbformat": 4,
 "nbformat_minor": 2
}
