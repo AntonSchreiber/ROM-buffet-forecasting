{
 "cells": [
  {
   "cell_type": "markdown",
   "metadata": {},
   "source": [
    "# Testing of a training pipeline for a single flow condition and a single network architecture"
   ]
  },
  {
   "cell_type": "code",
   "execution_count": null,
   "metadata": {},
   "outputs": [],
   "source": [
    "import sys\n",
    "import os\n",
    "from os.path import join\n",
    "parent_dir = os.path.abspath(join(os.getcwd(), os.pardir))\n",
    "app_dir = join(parent_dir, \"app\")\n",
    "if app_dir not in sys.path:\n",
    "      sys.path.append(app_dir)\n",
    "\n",
    "from pathlib import Path\n",
    "import torch as pt\n",
    "from utils.TimeSeriesDataset import DataWindowVAE\n",
    "from utils import Scaler\n",
    "\n",
    "DATA_PATH = Path(os.path.abspath('')).parent / \"data\""
   ]
  },
  {
   "cell_type": "markdown",
   "metadata": {},
   "source": [
    "#### Load IPSP data"
   ]
  },
  {
   "cell_type": "code",
   "execution_count": null,
   "metadata": {},
   "outputs": [],
   "source": [
    "# load interpolated dataset and pick a flow condition\n",
    "data = pt.load(join(DATA_PATH, \"cp_084_500snaps_interp.pt\"))\n",
    "flow_cond = list(data.keys())[2]\n",
    "print(flow_cond)\n",
    "data = data[flow_cond]\n",
    "data.shape"
   ]
  },
  {
   "cell_type": "markdown",
   "metadata": {},
   "source": [
    "#### Split and Scale the data"
   ]
  },
  {
   "cell_type": "code",
   "execution_count": null,
   "metadata": {},
   "outputs": [],
   "source": [
    "train_test_split = 0.9\n",
    "num_timesteps = data.shape[2]\n",
    "num_train = int(num_timesteps * train_test_split)\n",
    "\n",
    "# split and scale data\n",
    "train_data = data[:,:,:num_train]\n",
    "test_data = data[:, :, num_train:]\n",
    "scaler = Scaler.MinMaxScaler_1_1().fit(train_data)\n",
    "train = scaler.scale(train_data)\n",
    "test = scaler.scale(test_data)\n",
    "print(train.shape)\n",
    "print(test.shape)"
   ]
  },
  {
   "cell_type": "markdown",
   "metadata": {},
   "source": [
    "#### Create dataset for single flow condition"
   ]
  },
  {
   "cell_type": "code",
   "execution_count": null,
   "metadata": {},
   "outputs": [],
   "source": [
    "data_window= DataWindowVAE(train_data, test_data,\n",
    "                           input_width=10,\n",
    "                           pred_horizon=5,\n",
    "                           shift=1,\n",
    "                           batch_size=32)\n",
    "\n",
    "train_dataset = data_window.train_dataset\n",
    "test_dataset = data_window.test_dataset\n",
    "# print(\"Timesteps in train dataset:      \", len(train_dataset))\n",
    "# print(\"Timesteps in test dataset:       \", len(test_dataset))\n",
    "\n",
    "print(\"Shift of the window:             \", data_window.shift)\n",
    "print(\"Total window size:               \", data_window.total_window_size)\n",
    "print(\"Input width:                     \", data_window.input_width)\n",
    "print(\"input indices:                   \", data_window.input_indices)\n",
    "print(\"Prediction starts at index:      \", data_window.pred_start)\n",
    "print(\"Prediction indices:              \", data_window.pred_indices)\n",
    "print(\"Prediction horizon:              \", data_window.pred_horizon)\n",
    "\n",
    "# data_window.rolling_window()\n",
    "data_window.rolling_window"
   ]
  },
  {
   "cell_type": "code",
   "execution_count": null,
   "metadata": {},
   "outputs": [],
   "source": []
  }
 ],
 "metadata": {
  "kernelspec": {
   "display_name": "Python 3",
   "language": "python",
   "name": "python3"
  },
  "language_info": {
   "codemirror_mode": {
    "name": "ipython",
    "version": 3
   },
   "file_extension": ".py",
   "mimetype": "text/x-python",
   "name": "python",
   "nbconvert_exporter": "python",
   "pygments_lexer": "ipython3",
   "version": "3.10.11"
  },
  "orig_nbformat": 4
 },
 "nbformat": 4,
 "nbformat_minor": 2
}
