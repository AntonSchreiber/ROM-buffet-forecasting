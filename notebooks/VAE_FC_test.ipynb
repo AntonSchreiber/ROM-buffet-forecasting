{
 "cells": [
  {
   "cell_type": "markdown",
   "metadata": {},
   "source": [
    "# Test CNN-VAE (reduction) with Fully-Connected Net (prediction)"
   ]
  },
  {
   "cell_type": "code",
   "execution_count": 1,
   "metadata": {},
   "outputs": [
    {
     "name": "stdout",
     "output_type": "stream",
     "text": [
      "cpu\n"
     ]
    }
   ],
   "source": [
    "import os\n",
    "from os.path import join\n",
    "import sys\n",
    "from pathlib import Path\n",
    "\n",
    "# include app directory into sys.path\n",
    "parent_dir = Path(os.path.abspath('')).parent\n",
    "app_dir = join(parent_dir, \"app\")\n",
    "if app_dir not in sys.path:\n",
    "      sys.path.append(app_dir)\n",
    "\n",
    "import torch as pt\n",
    "from torch.utils.data import Subset\n",
    "import matplotlib.pyplot as plt\n",
    "\n",
    "import utils.config as config\n",
    "from utils.CNN_VAE import make_VAE_model\n",
    "from utils.FullyConnected import make_FC_model\n",
    "\n",
    "plt.rcParams[\"figure.dpi\"] = 180\n",
    "\n",
    "# use GPU if possible\n",
    "device = pt.device(\"cuda\") if pt.cuda.is_available() else pt.device(\"cpu\")\n",
    "print(device)\n",
    "\n",
    "DATA_PATH = join(parent_dir, \"data\", \"single_flow_cond\")\n",
    "VAE_PATH = join(parent_dir, \"output\", \"VAE\", \"latent_study\", config.VAE_model)\n",
    "FC_MODEL = \"45_256_1\"\n",
    "FC_PATH = join(parent_dir, \"output\", \"single_flow_cond\", \"parameter_study\", \"pred_horizon_1\")\n",
    "LATENT_SIZE = config.VAE_latent_size\n",
    "OUTPUT_PATH = join(parent_dir, \"output\", \"single_flow_cond\")"
   ]
  },
  {
   "cell_type": "markdown",
   "metadata": {},
   "source": [
    "#### Load data (single flow condition at alpha = 4.00)"
   ]
  },
  {
   "cell_type": "code",
   "execution_count": 2,
   "metadata": {},
   "outputs": [
    {
     "name": "stdout",
     "output_type": "stream",
     "text": [
      "torch.Size([256, 128, 100])\n"
     ]
    },
    {
     "ename": "NameError",
     "evalue": "name 'X_test_1' is not defined",
     "output_type": "error",
     "traceback": [
      "\u001b[0;31m---------------------------------------------------------------------------\u001b[0m",
      "\u001b[0;31mNameError\u001b[0m                                 Traceback (most recent call last)",
      "Cell \u001b[0;32mIn[2], line 6\u001b[0m\n\u001b[1;32m      3\u001b[0m \u001b[39mprint\u001b[39m(test_dataset\u001b[39m.\u001b[39mshape)\n\u001b[1;32m      5\u001b[0m \u001b[39m# make tensors from datasets\u001b[39;00m\n\u001b[0;32m----> 6\u001b[0m X_test_1_tensor \u001b[39m=\u001b[39m pt\u001b[39m.\u001b[39mstack([X_test_1[n] \u001b[39mfor\u001b[39;00m n \u001b[39min\u001b[39;00m \u001b[39mrange\u001b[39m(\u001b[39mlen\u001b[39m(X_test_1))], dim\u001b[39m=\u001b[39m\u001b[39m3\u001b[39m)\u001b[39m.\u001b[39msqueeze(\u001b[39m0\u001b[39m)\n",
      "\u001b[0;31mNameError\u001b[0m: name 'X_test_1' is not defined"
     ]
    }
   ],
   "source": [
    "# load test dataset\n",
    "test_dataset = pt.load(join(DATA_PATH, \"test_dataset.pt\"))\n",
    "print(test_dataset.shape)\n",
    "\n",
    "# make tensors from datasets\n",
    "X_test_1_tensor = pt.stack([X_test_1[n] for n in range(len(X_test_1))], dim=3).squeeze(0)\n"
   ]
  },
  {
   "cell_type": "markdown",
   "metadata": {},
   "source": [
    "#### Load Convolutional VAE and encode data"
   ]
  },
  {
   "cell_type": "code",
   "execution_count": null,
   "metadata": {},
   "outputs": [],
   "source": [
    "autoencoder = make_VAE_model(\n",
    "    n_latent=LATENT_SIZE, \n",
    "    device=device)\n",
    "autoencoder.load(VAE_PATH)\n",
    "autoencoder.eval()"
   ]
  },
  {
   "cell_type": "markdown",
   "metadata": {},
   "source": [
    "#### Load Fully-Connected Net"
   ]
  },
  {
   "cell_type": "code",
   "execution_count": null,
   "metadata": {},
   "outputs": [],
   "source": [
    "# results from parameter study\n",
    "INPUT_WIDTH = 45\n",
    "HIDDEN_SIZE = 256\n",
    "N_HIDDEN_LAYERS = 1\n",
    "\n",
    "FC_model = make_FC_model(\n",
    "    latent_size=LATENT_SIZE,\n",
    "    input_width=INPUT_WIDTH, \n",
    "    hidden_size=HIDDEN_SIZE, \n",
    "    n_hidden_layers=N_HIDDEN_LAYERS\n",
    ")\n",
    "print(FC_PATH)\n",
    "FC_model.load_state_dict(pt.load(join(FC_PATH, FC_MODEL + \".pt\")))\n",
    "FC_model.eval()"
   ]
  },
  {
   "cell_type": "code",
   "execution_count": null,
   "metadata": {},
   "outputs": [],
   "source": [
    "study_results = pt.load(join(FC_PATH, \"study_results.pt\"))\n",
    "loss_df = study_results[FC_MODEL][0]\n",
    "print(loss_df)"
   ]
  },
  {
   "cell_type": "markdown",
   "metadata": {},
   "source": [
    "#### Latent Loss vs. Full Space Loss"
   ]
  },
  {
   "cell_type": "code",
   "execution_count": null,
   "metadata": {},
   "outputs": [],
   "source": [
    "# compare the latent loss vs the full space MSE"
   ]
  },
  {
   "cell_type": "markdown",
   "metadata": {},
   "source": [
    "#### Original vs predicted Snapshot"
   ]
  },
  {
   "cell_type": "code",
   "execution_count": null,
   "metadata": {},
   "outputs": [],
   "source": [
    "# compare original vs predicted snapshot on test data with subplots(1, 3)[Orig, Predicted, MSE] "
   ]
  },
  {
   "cell_type": "markdown",
   "metadata": {},
   "source": [
    "#### Loss vs. Prediction Horizon"
   ]
  },
  {
   "cell_type": "code",
   "execution_count": null,
   "metadata": {},
   "outputs": [],
   "source": [
    "# show how the loss of the selected model configuration changes when the prediction horizon increases"
   ]
  },
  {
   "cell_type": "markdown",
   "metadata": {},
   "source": [
    "#### Test AR prediction"
   ]
  },
  {
   "cell_type": "code",
   "execution_count": null,
   "metadata": {},
   "outputs": [],
   "source": [
    "# decide on architecture and predict an arbitrary timestep -> compare to actual timestep"
   ]
  }
 ],
 "metadata": {
  "kernelspec": {
   "display_name": "Python 3",
   "language": "python",
   "name": "python3"
  },
  "language_info": {
   "codemirror_mode": {
    "name": "ipython",
    "version": 3
   },
   "file_extension": ".py",
   "mimetype": "text/x-python",
   "name": "python",
   "nbconvert_exporter": "python",
   "pygments_lexer": "ipython3",
   "version": "3.10.11"
  },
  "orig_nbformat": 4
 },
 "nbformat": 4,
 "nbformat_minor": 2
}
