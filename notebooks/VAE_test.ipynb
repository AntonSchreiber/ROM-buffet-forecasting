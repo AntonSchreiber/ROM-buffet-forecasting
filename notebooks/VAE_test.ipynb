{
 "cells": [
  {
   "cell_type": "markdown",
   "metadata": {},
   "source": [
    "## Imports"
   ]
  },
  {
   "cell_type": "code",
   "execution_count": null,
   "metadata": {},
   "outputs": [],
   "source": [
    "import os\n",
    "from os.path import join\n",
    "import sys\n",
    "from pathlib import Path\n",
    "\n",
    "# include app directory into sys.path\n",
    "parent_dir = Path(os.path.abspath('')).parent\n",
    "app_dir = join(parent_dir, \"app\")\n",
    "if app_dir not in sys.path:\n",
    "      sys.path.append(app_dir)\n",
    "\n",
    "import torch as pt\n",
    "from torch.utils.data import Subset\n",
    "import matplotlib.pyplot as plt\n",
    "import matplotlib.ticker as ticker \n",
    "from flowtorch.analysis import SVD\n",
    "import numpy as np\n",
    "from scipy.fft import fft, fftfreq\n",
    "\n",
    "import utils.config as config\n",
    "from CNN_VAE.CNN_VAE import make_VAE_model\n",
    "\n",
    "# increase plot resolution\n",
    "plt.rcParams[\"figure.dpi\"] = 180\n",
    "\n",
    "# use GPU if possible\n",
    "device = pt.device(\"cuda\") if pt.cuda.is_available() else pt.device(\"cpu\")\n",
    "print(device)\n",
    "\n",
    "# define paths\n",
    "DATA_PATH = join(parent_dir, \"data\", \"VAE\")\n",
    "VAE_PATH = join(parent_dir, \"output\", \"VAE\", \"latent_study\", config.VAE_model)\n",
    "OUTPUT_PATH = join(parent_dir, \"output\", \"VAE\")\n",
    "\n",
    "TIMESTEP = config.timestep_reconstruction\n",
    "TIMESTEP_dimless = (TIMESTEP * config.U_inf) / (config.c_mean * config.timesteps_per_second)"
   ]
  },
  {
   "cell_type": "code",
   "execution_count": null,
   "metadata": {},
   "outputs": [],
   "source": [
    "# load test dataset\n",
    "test_dataset = pt.load(join(DATA_PATH, \"test_dataset.pt\"))\n",
    "\n",
    "# split test dataset into the two flow conditions\n",
    "test_1 = Subset(test_dataset,                                 # ma0.84 alpha3.00 \n",
    "                  list(range(0, int(len(test_dataset) / 2))))        \n",
    "test_2 = Subset(test_dataset,                                 # ma0.84 alpha5.00\n",
    "                  list(range(int(len(test_dataset) / 2), len(test_dataset))))    \n",
    "\n",
    "# make tensors from datasets\n",
    "test_1_tensor = pt.stack([test_1[n] for n in range(len(test_1))], dim=3).squeeze(0)\n",
    "test_2_tensor = pt.stack([test_2[n] for n in range(len(test_2))], dim=3).squeeze(0)\n",
    "\n",
    "# load coordinate grids\n",
    "coords = pt.load(join(Path(DATA_PATH).parent, \"coords_interp.pt\"))\n",
    "xx, yy = coords"
   ]
  },
  {
   "cell_type": "code",
   "execution_count": null,
   "metadata": {},
   "outputs": [],
   "source": [
    "# load pre-trained autoencoder model\n",
    "autoencoder = make_VAE_model(\n",
    "    n_latent=128, \n",
    "    device=device)\n",
    "autoencoder.load(VAE_PATH)\n",
    "autoencoder.eval()\n",
    "\n",
    "# reconstruct test datasets\n",
    "with pt.no_grad():\n",
    "    test_1_reconstr = pt.stack([autoencoder(test_1[n].unsqueeze(0)).squeeze(0).detach() for n in range(len(test_1))], dim=3).squeeze(0)\n",
    "    test_2_reconstr = pt.stack([autoencoder(test_2[n].unsqueeze(0)).squeeze(0).detach() for n in range(len(test_2))], dim=3).squeeze(0)"
   ]
  },
  {
   "cell_type": "markdown",
   "metadata": {},
   "source": [
    "## Results for Test Flow Condition 1 ($\\alpha = 3.00^\\circ$)"
   ]
  },
  {
   "cell_type": "markdown",
   "metadata": {},
   "source": [
    "#### Reconstruct $c_p$-snapshot of unseen flow condition"
   ]
  },
  {
   "cell_type": "code",
   "execution_count": null,
   "metadata": {},
   "outputs": [],
   "source": [
    "fig, (ax1, ax2, ax3) = plt.subplots(1, 3)\n",
    "vmin_cp, vmax_cp = config.plot_lims_cp\n",
    "vmin_MSE, vmax_MSE = config.plot_lims_MSE_reconstruction\n",
    "levels_cp = pt.linspace(vmin_cp, vmax_cp, 120)\n",
    "levels_MSE = pt.linspace(vmin_MSE, vmax_MSE, 120)\n",
    "\n",
    "SE = (test_1_tensor[:,:,TIMESTEP] - test_1_reconstr[:,:,TIMESTEP])**2\n",
    "\n",
    "ax1.contourf(xx, yy, test_1_tensor[:,:,TIMESTEP], vmin=vmin_cp, vmax=vmax_cp, levels=levels_cp)\n",
    "ax2.contourf(xx, yy, test_1_reconstr[:,:,TIMESTEP], vmin=vmin_cp, vmax=vmax_cp, levels=levels_cp)\n",
    "cont = ax3.contourf(xx, yy, SE, vmin=vmin_MSE, vmax=vmax_MSE, levels=levels_MSE)\n",
    "\n",
    "ax1.set_title(\"Ground Truth\")\n",
    "ax2.set_title(\"CNN-VAE\")\n",
    "\n",
    "fig.subplots_adjust(right=0.95)\n",
    "cax = fig.add_axes([0.99, 0.283, 0.03, 0.424])\n",
    "cbar = fig.colorbar(cont, cax=cax,label = \"Squarred Error\")\n",
    "cbar.formatter = ticker.FormatStrFormatter(f'%.{3}f')\n",
    "\n",
    "for ax in [ax1, ax2, ax3]:\n",
    "    ax.set_aspect(\"equal\")\n",
    "    ax.set_xticklabels([])\n",
    "    ax.set_yticklabels([])\n",
    "\n",
    "fig.savefig(join(OUTPUT_PATH, f\"VAE_prediction_test_1.png\"), bbox_inches=\"tight\")"
   ]
  },
  {
   "cell_type": "code",
   "execution_count": null,
   "metadata": {},
   "outputs": [],
   "source": [
    "# flatten original and reconstructed test dataset\n",
    "test_1_original = test_1_tensor.flatten(0,1)\n",
    "test_1_reconstr = test_1_reconstr.flatten(0,1)"
   ]
  },
  {
   "cell_type": "markdown",
   "metadata": {},
   "source": [
    "#### Compare Power Spectra of POD Modes"
   ]
  },
  {
   "cell_type": "code",
   "execution_count": null,
   "metadata": {},
   "outputs": [],
   "source": [
    "svd_original= SVD(test_1_original - test_1_original.mean(dim=1).unsqueeze(-1), rank=1e5)\n",
    "V_original = svd_original.V\n",
    "\n",
    "svd_reconstr = SVD(test_1_reconstr - test_1_reconstr.mean(dim=1).unsqueeze(-1), rank=1e5)\n",
    "V_reconstr = svd_reconstr.V\n",
    "\n",
    "N = test_1_original.shape[1]\n",
    "num_modes = 4\n",
    "sample_rate = 2000          # [Hz]\n",
    "y_lims = [1e-7, 1e-1]\n",
    "\n",
    "fig, ax = plt.subplots(2, 2, figsize=(6, 5), sharex=True)\n",
    "for row in range(2):\n",
    "    for col in range(2):\n",
    "        # Calculate the mode index and retrieve mode coefficients\n",
    "        mode = row * 2 + col                   \n",
    "        original_mode_coeffs = V_original[:, mode].numpy()\n",
    "        reconstr_mode_coeffs = V_reconstr[:, mode].numpy()\n",
    "\n",
    "        # Compute FFT and PSD\n",
    "        original_fft = fft(original_mode_coeffs)\n",
    "        original_psd = np.abs(original_fft)**2 / len(original_fft)\n",
    "        reconstr_fft = fft(reconstr_mode_coeffs)\n",
    "        reconstr_psd = np.abs(reconstr_fft)**2 / len(reconstr_fft)\n",
    "\n",
    "        # Frequency values for plotting\n",
    "        freq = fftfreq(len(original_mode_coeffs), d=1/sample_rate)* config.c_mean * 0.5 / config.U_inf\n",
    "\n",
    "        # Use only the positive frequencies (discard negative frequency half)\n",
    "        freq = freq[:len(freq)//2]\n",
    "        original_psd = original_psd[:len(original_psd)//2]\n",
    "        reconstr_psd = reconstr_psd[:len(reconstr_psd)//2]\n",
    "\n",
    "        # Plot the power spectra\n",
    "        ax[row, col].semilogy(freq, original_psd, linewidth=0.5, color=\"black\", label=\"Experimental Data\")\n",
    "        ax[row, col].semilogy(freq, reconstr_psd, linewidth=0.7, color=\"cornflowerblue\", linestyle='dashed', label=\"CNN-VAE Reconstruction\")\n",
    "        ax[row, col].set_title(f\"Mode Coefficient {mode + 1}\")\n",
    "        ax[row, col].grid()\n",
    "        ax[row, col].set_yticklabels([])\n",
    "        ax[row, col].set_yticks([])\n",
    "        ax[row, col].set_ylim(y_lims)\n",
    "\n",
    "        \n",
    "ax[1, 0].set_xlabel(rf\"Reduced Frequency $\\omega$\")\n",
    "ax[1, 1].set_xlabel(rf\"Reduced Frequency $\\omega$\")\n",
    "ax[1,0].legend()\n",
    "\n",
    "plt.xscale(\"log\")\n",
    "fig.tight_layout()\n",
    "fig.savefig(join(OUTPUT_PATH, f\"VAE_power_spectra_test_1.png\"), bbox_inches=\"tight\")"
   ]
  },
  {
   "cell_type": "markdown",
   "metadata": {},
   "source": [
    "## Results for Test Flow Condition 1 ($\\alpha = 5.00^\\circ$)"
   ]
  },
  {
   "cell_type": "markdown",
   "metadata": {},
   "source": [
    "#### Reconstruct $c_p$-snapshot of unseen flow condition"
   ]
  },
  {
   "cell_type": "code",
   "execution_count": null,
   "metadata": {},
   "outputs": [],
   "source": [
    "fig, (ax1, ax2, ax3) = plt.subplots(1, 3)\n",
    "vmin_cp, vmax_cp = config.plot_lims_cp\n",
    "vmin_MSE, vmax_MSE = config.plot_lims_MSE_reconstruction\n",
    "levels_cp = pt.linspace(vmin_cp, vmax_cp, 120)\n",
    "levels_MSE = pt.linspace(vmin_MSE, vmax_MSE, 120)\n",
    "\n",
    "SE = (test_2_tensor[:,:,TIMESTEP] - test_2_reconstr[:,:,TIMESTEP])**2\n",
    "\n",
    "ax1.contourf(xx, yy, test_2_tensor[:,:,TIMESTEP], vmin=vmin_cp, vmax=vmax_cp, levels=levels_cp)\n",
    "ax2.contourf(xx, yy, test_2_reconstr[:,:,TIMESTEP], vmin=vmin_cp, vmax=vmax_cp, levels=levels_cp)\n",
    "cont = ax3.contourf(xx, yy, SE, vmin=vmin_MSE, vmax=vmax_MSE, levels=levels_MSE)\n",
    "\n",
    "ax1.set_title(\"Ground Truth\")\n",
    "ax2.set_title(\"CNN-VAE\")\n",
    "\n",
    "fig.subplots_adjust(right=0.95)\n",
    "cax = fig.add_axes([0.99, 0.283, 0.03, 0.424])\n",
    "cbar = fig.colorbar(cont, cax=cax,label = \"Squarred Error\")\n",
    "cbar.formatter = ticker.FormatStrFormatter(f'%.{3}f')\n",
    "\n",
    "for ax in [ax1, ax2, ax3]:\n",
    "    ax.set_aspect(\"equal\")\n",
    "    ax.set_xticklabels([])\n",
    "    ax.set_yticklabels([])\n",
    "\n",
    "fig.savefig(join(OUTPUT_PATH, f\"VAE_prediction_test_2.png\"), bbox_inches=\"tight\")"
   ]
  },
  {
   "cell_type": "code",
   "execution_count": null,
   "metadata": {},
   "outputs": [],
   "source": [
    "# flatten original and reconstructed test dataset\n",
    "test_2_original = test_2_tensor.flatten(0,1)\n",
    "test_2_reconstr = test_2_reconstr.flatten(0,1)"
   ]
  },
  {
   "cell_type": "markdown",
   "metadata": {},
   "source": [
    "#### Compare Power Spectra of POD Modes"
   ]
  },
  {
   "cell_type": "code",
   "execution_count": null,
   "metadata": {},
   "outputs": [],
   "source": [
    "svd_original= SVD(test_2_original - test_2_original.mean(dim=1).unsqueeze(-1), rank=1e5)\n",
    "V_original = svd_original.V\n",
    "\n",
    "svd_reconstr = SVD(test_2_reconstr - test_2_reconstr.mean(dim=1).unsqueeze(-1), rank=1e5)\n",
    "V_reconstr = svd_reconstr.V\n",
    "\n",
    "N = test_2_original.shape[1]\n",
    "num_modes = 4\n",
    "sample_rate = 2000          # [Hz]\n",
    "\n",
    "fig, ax = plt.subplots(2, 2, figsize=(6, 5), sharex=True)\n",
    "for row in range(2):\n",
    "    for col in range(2):\n",
    "        # Calculate the mode index and retrieve mode coefficients\n",
    "        mode = row * 2 + col                   \n",
    "        original_mode_coeffs = V_original[:, mode].numpy()\n",
    "        reconstr_mode_coeffs = V_reconstr[:, mode].numpy()\n",
    "\n",
    "        # Compute FFT and PSD\n",
    "        original_fft = fft(original_mode_coeffs)\n",
    "        original_psd = np.abs(original_fft)**2 / len(original_fft)\n",
    "        reconstr_fft = fft(reconstr_mode_coeffs)\n",
    "        reconstr_psd = np.abs(reconstr_fft)**2 / len(reconstr_fft)\n",
    "\n",
    "        # Frequency values for plotting\n",
    "        freq = fftfreq(len(original_mode_coeffs), d=1/sample_rate)* config.c_mean * 0.5 / config.U_inf\n",
    "\n",
    "        # Use only the positive frequencies (discard negative frequency half)\n",
    "        freq = freq[:len(freq)//2]\n",
    "        original_psd = original_psd[:len(original_psd)//2]\n",
    "        reconstr_psd = reconstr_psd[:len(reconstr_psd)//2]\n",
    "\n",
    "        # Plot the power spectra\n",
    "        ax[row, col].semilogy(freq, original_psd, linewidth=0.5, color=\"black\", label=\"Experimental Data\")\n",
    "        ax[row, col].semilogy(freq, reconstr_psd, linewidth=0.7, color=\"cornflowerblue\", linestyle='dashed', label=\"CNN-VAE Reconstruction\")\n",
    "        ax[row, col].set_title(f\"Mode coefficient {mode + 1}\")\n",
    "        ax[row, col].grid()\n",
    "        ax[row, col].set_yticklabels([])\n",
    "        ax[row, col].set_yticks([])\n",
    "        ax[row, col].set_ylim(y_lims)\n",
    "\n",
    "        \n",
    "ax[1, 0].set_xlabel(rf\"Reduced Frequency $\\omega$\")\n",
    "ax[1, 1].set_xlabel(rf\"Reduced Frequency $\\omega$\")\n",
    "ax[1,0].legend()\n",
    "\n",
    "plt.xscale(\"log\")\n",
    "fig.tight_layout()\n",
    "fig.savefig(join(OUTPUT_PATH, f\"VAE_power_spectra_test_2.png\"), bbox_inches=\"tight\")"
   ]
  }
 ],
 "metadata": {
  "kernelspec": {
   "display_name": "Python 3",
   "language": "python",
   "name": "python3"
  },
  "language_info": {
   "codemirror_mode": {
    "name": "ipython",
    "version": 3
   },
   "file_extension": ".py",
   "mimetype": "text/x-python",
   "name": "python",
   "nbconvert_exporter": "python",
   "pygments_lexer": "ipython3",
   "version": "3.10.11"
  },
  "orig_nbformat": 4
 },
 "nbformat": 4,
 "nbformat_minor": 2
}
