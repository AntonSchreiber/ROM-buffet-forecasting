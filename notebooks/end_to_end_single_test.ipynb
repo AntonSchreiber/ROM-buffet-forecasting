{
 "cells": [
  {
   "cell_type": "markdown",
   "metadata": {},
   "source": [
    "## Imports"
   ]
  },
  {
   "cell_type": "code",
   "execution_count": 2,
   "metadata": {},
   "outputs": [
    {
     "name": "stdout",
     "output_type": "stream",
     "text": [
      "cpu\n"
     ]
    }
   ],
   "source": [
    "import os\n",
    "from os.path import join\n",
    "import sys\n",
    "from pathlib import Path\n",
    "\n",
    "# include app directory into sys.path\n",
    "parent_dir = Path(os.path.abspath('')).parent\n",
    "app_dir = join(parent_dir, \"app\")\n",
    "if app_dir not in sys.path:\n",
    "      sys.path.append(app_dir)\n",
    "\n",
    "import torch as pt\n",
    "from torch.nn.functional import mse_loss\n",
    "import matplotlib.pyplot as plt\n",
    "import matplotlib.ticker as ticker \n",
    "from flowtorch.analysis import SVD\n",
    "import numpy as np\n",
    "from scipy.fft import fft, fftfreq\n",
    "\n",
    "import utils.config as config\n",
    "from utils.helper_funcs import load_datasets_end_to_end\n",
    "from utils.DataWindow import DataWindow_end_to_end\n",
    "from CNN_VAE.CNN_VAE import ConvDecoder, ConvEncoder\n",
    "from LSTM.LSTM_model import LSTM\n",
    "from end_to_end.CNN_VAE_LSTM import autoencoder_LSTM\n",
    "\n",
    "plt.rcParams[\"figure.dpi\"] = 180\n",
    "\n",
    "# use GPU if possible\n",
    "device = pt.device(\"cuda\") if pt.cuda.is_available() else pt.device(\"cpu\")\n",
    "print(device)\n",
    "\n",
    "# define prediction horizon and type of dimensionality reduction\n",
    "PRED_HORIZON = 1\n",
    "N_LATENT = config.VAE_latent_size\n",
    "FC_MODEL = \"1_32_128_2\"\n",
    "\n",
    "# define paths\n",
    "# define paths\n",
    "DATA_PATH = join(parent_dir, \"data\", \"end_to_end\")\n",
    "OUTPUT_PATH = join(parent_dir, \"output\", \"end_to_end\", \"single\")\n",
    "MODEL_PATH = join(parent_dir, \"output\", \"end_to_end\", \"single\", f\"pred_horizon_{PRED_HORIZON}\")"
   ]
  },
  {
   "cell_type": "markdown",
   "metadata": {},
   "source": [
    "## Pipeline Pre-Processing"
   ]
  },
  {
   "cell_type": "code",
   "execution_count": 3,
   "metadata": {},
   "outputs": [],
   "source": [
    "# define FC model parameters\n",
    "_, INPUT_WIDTH, HIDDEN_SIZE, N_STACKED_LAYERS = [int(param) for param in FC_MODEL.split(\"_\")]"
   ]
  },
  {
   "cell_type": "code",
   "execution_count": 4,
   "metadata": {},
   "outputs": [
    {
     "name": "stdout",
     "output_type": "stream",
     "text": [
      "Test dataset comprises timesteps 400 - 500.\n",
      "The end-to-end model takes the first 32 timesteps as input.\n",
      "\n",
      "Predicted timestep 1 (index) is:            41\n",
      "    which equals a dimensionless time:      236.77\n",
      "    and a prediction horizon of:            10\n",
      "\n",
      "Predicted timestep 2 (index) is:            81\n",
      "    which equals a dimensionless time:      258.25\n",
      "    and a prediction horizon of:            50\n"
     ]
    }
   ],
   "source": [
    "# timestep and index computation, transforming to dimensionsless time\n",
    "TIMESTEP_1, TIMESTEP_2 = (INPUT_WIDTH + 9, INPUT_WIDTH + 49)\n",
    "dimless_factor = config.U_inf / (config.c_mean * config.timesteps_per_second)\n",
    "\n",
    "TIMESTEP_dimless_split = round((config.single_flow_cond_train_share * config.time_steps_per_cond) * dimless_factor, 2)\n",
    "TIMESTEP_dimless_1= round((TIMESTEP_1 + (config.single_flow_cond_train_share * config.time_steps_per_cond)) * dimless_factor, 2)\n",
    "TIMESTEP_dimless_2= round((TIMESTEP_2 + (config.single_flow_cond_train_share * config.time_steps_per_cond)) * dimless_factor, 2)\n",
    "\n",
    "# compute prediction horizons to predict timestep 1 and 2\n",
    "pred_horizon_1 = TIMESTEP_1 - INPUT_WIDTH + 1\n",
    "pred_horizon_2 = TIMESTEP_2 - INPUT_WIDTH + 1\n",
    "\n",
    "# set a prediction horizon for comparing latent and full space loss\n",
    "pred_horizon_total = 50\n",
    "\n",
    "print(f\"Test dataset comprises timesteps {int(config.single_flow_cond_train_share * config.time_steps_per_cond)} - {config.time_steps_per_cond}.\")    \n",
    "print(f\"The end-to-end model takes the first {INPUT_WIDTH} timesteps as input.\\n\")     \n",
    "print(f\"Predicted timestep 1 (index) is:            {TIMESTEP_1}\")\n",
    "print(f\"    which equals a dimensionless time:      {TIMESTEP_dimless_1}\")\n",
    "print(f\"    and a prediction horizon of:            {pred_horizon_1}\\n\")\n",
    "print(f\"Predicted timestep 2 (index) is:            {TIMESTEP_2}\")\n",
    "print(f\"    which equals a dimensionless time:      {TIMESTEP_dimless_2}\")\n",
    "print(f\"    and a prediction horizon of:            {pred_horizon_2}\")"
   ]
  },
  {
   "cell_type": "code",
   "execution_count": 5,
   "metadata": {},
   "outputs": [
    {
     "name": "stdout",
     "output_type": "stream",
     "text": [
      "Loading datasets ... \n",
      "     min and max train cp:            -1.0 1.0\n",
      "     min and max test cp:            -0.9975768327713013 0.8729250431060791 \n",
      "\n",
      "torch.Size([256, 128, 400]) torch.Size([256, 128, 100])\n"
     ]
    }
   ],
   "source": [
    "# load experimental data\n",
    "train, test = load_datasets_end_to_end(DATA_PATH)\n",
    "print(train.shape, test.shape)\n",
    "\n",
    "# load coordinate grids\n",
    "coords = pt.load(join(Path(DATA_PATH).parent, \"coords_interp.pt\"))\n",
    "xx, yy = coords"
   ]
  },
  {
   "cell_type": "code",
   "execution_count": 7,
   "metadata": {},
   "outputs": [
    {
     "name": "stdout",
     "output_type": "stream",
     "text": [
      "Input indices of first window range from:           0 to 31\n",
      "Target indices of first window range from:          32 to 32\n",
      "Number of possible windows:                            68\n"
     ]
    }
   ],
   "source": [
    "# feed reduced and scaled dataset into DataWindow class to create TimeSeriesTensorDatasets\n",
    "data_window = DataWindow_end_to_end(train=train, test=test, input_width=INPUT_WIDTH, pred_horizon=PRED_HORIZON)\n",
    "input_idx, target_idx = data_window.rolling_window(test.shape[2])\n",
    "target_idx = target_idx.tolist()\n",
    "\n",
    "print(f\"Input indices of first window range from:           {input_idx[0][0]} to {input_idx[0][-1]}\")\n",
    "print(f\"Target indices of first window range from:          {target_idx[0][0]} to {target_idx[0][-1]}\")\n",
    "print(f\"Number of possible windows:                            {len(input_idx)}\")\n",
    "\n",
    "test_windows = data_window.test_dataset"
   ]
  },
  {
   "cell_type": "code",
   "execution_count": 10,
   "metadata": {},
   "outputs": [
    {
     "ename": "FileNotFoundError",
     "evalue": "[Errno 2] No such file or directory: '/home/anton/repositories/Studienarbeit/output/end_to_end/single/pred_horizon_1/1_32_128_2_encoder.pt'",
     "output_type": "error",
     "traceback": [
      "\u001b[0;31m---------------------------------------------------------------------------\u001b[0m",
      "\u001b[0;31mFileNotFoundError\u001b[0m                         Traceback (most recent call last)",
      "Cell \u001b[0;32mIn[10], line 23\u001b[0m\n\u001b[1;32m     16\u001b[0m lstm \u001b[39m=\u001b[39m LSTM(\n\u001b[1;32m     17\u001b[0m     latent_size\u001b[39m=\u001b[39mN_LATENT, \n\u001b[1;32m     18\u001b[0m     hidden_size\u001b[39m=\u001b[39mHIDDEN_SIZE, \n\u001b[1;32m     19\u001b[0m     num_layers\u001b[39m=\u001b[39mN_STACKED_LAYERS\n\u001b[1;32m     20\u001b[0m     )\n\u001b[1;32m     22\u001b[0m model \u001b[39m=\u001b[39m autoencoder_LSTM(encoder\u001b[39m=\u001b[39mencoder, LSTM\u001b[39m=\u001b[39mlstm, decoder\u001b[39m=\u001b[39mdecoder)\n\u001b[0;32m---> 23\u001b[0m model\u001b[39m.\u001b[39;49mload(join(MODEL_PATH, FC_MODEL))\n",
      "File \u001b[0;32m~/repositories/Studienarbeit/app/end_to_end/CNN_VAE_LSTM.py:35\u001b[0m, in \u001b[0;36mautoencoder_LSTM.load\u001b[0;34m(self, path, device)\u001b[0m\n\u001b[1;32m     34\u001b[0m \u001b[39mdef\u001b[39;00m \u001b[39mload\u001b[39m(\u001b[39mself\u001b[39m, path: \u001b[39mstr\u001b[39m\u001b[39m=\u001b[39m\u001b[39m\"\u001b[39m\u001b[39m\"\u001b[39m, device: \u001b[39mstr\u001b[39m\u001b[39m=\u001b[39m\u001b[39m\"\u001b[39m\u001b[39mcpu\u001b[39m\u001b[39m\"\u001b[39m):\n\u001b[0;32m---> 35\u001b[0m     \u001b[39mself\u001b[39m\u001b[39m.\u001b[39m_encoder\u001b[39m.\u001b[39mload_state_dict(torch\u001b[39m.\u001b[39;49mload(path \u001b[39m+\u001b[39;49m \u001b[39m\"\u001b[39;49m\u001b[39m_encoder.pt\u001b[39;49m\u001b[39m\"\u001b[39;49m, map_location\u001b[39m=\u001b[39;49mtorch\u001b[39m.\u001b[39;49mdevice(device)))\n\u001b[1;32m     36\u001b[0m     \u001b[39mself\u001b[39m\u001b[39m.\u001b[39m_decoder\u001b[39m.\u001b[39mload_state_dict(torch\u001b[39m.\u001b[39mload(path \u001b[39m+\u001b[39m \u001b[39m\"\u001b[39m\u001b[39m_decoder.pt\u001b[39m\u001b[39m\"\u001b[39m, map_location\u001b[39m=\u001b[39mtorch\u001b[39m.\u001b[39mdevice(device)))\n\u001b[1;32m     37\u001b[0m     \u001b[39mself\u001b[39m\u001b[39m.\u001b[39m_LSTM\u001b[39m.\u001b[39mload_state_dict(torch\u001b[39m.\u001b[39mload(path \u001b[39m+\u001b[39m \u001b[39m\"\u001b[39m\u001b[39m_LSTM.pt\u001b[39m\u001b[39m\"\u001b[39m, map_location\u001b[39m=\u001b[39mtorch\u001b[39m.\u001b[39mdevice(device)))\n",
      "File \u001b[0;32m~/conda_envs/studienarbeit/lib/python3.10/site-packages/torch/serialization.py:791\u001b[0m, in \u001b[0;36mload\u001b[0;34m(f, map_location, pickle_module, weights_only, **pickle_load_args)\u001b[0m\n\u001b[1;32m    788\u001b[0m \u001b[39mif\u001b[39;00m \u001b[39m'\u001b[39m\u001b[39mencoding\u001b[39m\u001b[39m'\u001b[39m \u001b[39mnot\u001b[39;00m \u001b[39min\u001b[39;00m pickle_load_args\u001b[39m.\u001b[39mkeys():\n\u001b[1;32m    789\u001b[0m     pickle_load_args[\u001b[39m'\u001b[39m\u001b[39mencoding\u001b[39m\u001b[39m'\u001b[39m] \u001b[39m=\u001b[39m \u001b[39m'\u001b[39m\u001b[39mutf-8\u001b[39m\u001b[39m'\u001b[39m\n\u001b[0;32m--> 791\u001b[0m \u001b[39mwith\u001b[39;00m _open_file_like(f, \u001b[39m'\u001b[39;49m\u001b[39mrb\u001b[39;49m\u001b[39m'\u001b[39;49m) \u001b[39mas\u001b[39;00m opened_file:\n\u001b[1;32m    792\u001b[0m     \u001b[39mif\u001b[39;00m _is_zipfile(opened_file):\n\u001b[1;32m    793\u001b[0m         \u001b[39m# The zipfile reader is going to advance the current file position.\u001b[39;00m\n\u001b[1;32m    794\u001b[0m         \u001b[39m# If we want to actually tail call to torch.jit.load, we need to\u001b[39;00m\n\u001b[1;32m    795\u001b[0m         \u001b[39m# reset back to the original position.\u001b[39;00m\n\u001b[1;32m    796\u001b[0m         orig_position \u001b[39m=\u001b[39m opened_file\u001b[39m.\u001b[39mtell()\n",
      "File \u001b[0;32m~/conda_envs/studienarbeit/lib/python3.10/site-packages/torch/serialization.py:271\u001b[0m, in \u001b[0;36m_open_file_like\u001b[0;34m(name_or_buffer, mode)\u001b[0m\n\u001b[1;32m    269\u001b[0m \u001b[39mdef\u001b[39;00m \u001b[39m_open_file_like\u001b[39m(name_or_buffer, mode):\n\u001b[1;32m    270\u001b[0m     \u001b[39mif\u001b[39;00m _is_path(name_or_buffer):\n\u001b[0;32m--> 271\u001b[0m         \u001b[39mreturn\u001b[39;00m _open_file(name_or_buffer, mode)\n\u001b[1;32m    272\u001b[0m     \u001b[39melse\u001b[39;00m:\n\u001b[1;32m    273\u001b[0m         \u001b[39mif\u001b[39;00m \u001b[39m'\u001b[39m\u001b[39mw\u001b[39m\u001b[39m'\u001b[39m \u001b[39min\u001b[39;00m mode:\n",
      "File \u001b[0;32m~/conda_envs/studienarbeit/lib/python3.10/site-packages/torch/serialization.py:252\u001b[0m, in \u001b[0;36m_open_file.__init__\u001b[0;34m(self, name, mode)\u001b[0m\n\u001b[1;32m    251\u001b[0m \u001b[39mdef\u001b[39;00m \u001b[39m__init__\u001b[39m(\u001b[39mself\u001b[39m, name, mode):\n\u001b[0;32m--> 252\u001b[0m     \u001b[39msuper\u001b[39m()\u001b[39m.\u001b[39m\u001b[39m__init__\u001b[39m(\u001b[39mopen\u001b[39;49m(name, mode))\n",
      "\u001b[0;31mFileNotFoundError\u001b[0m: [Errno 2] No such file or directory: '/home/anton/repositories/Studienarbeit/output/end_to_end/single/pred_horizon_1/1_32_128_2_encoder.pt'"
     ]
    }
   ],
   "source": [
    "# initialize models\n",
    "encoder = ConvEncoder(\n",
    "    in_size=config.target_resolution,\n",
    "    n_channels=config.VAE_input_channels,\n",
    "    n_latent=N_LATENT,\n",
    "    variational=True,\n",
    "    layernorm=True\n",
    ")\n",
    "decoder = ConvDecoder(\n",
    "    in_size=config.target_resolution,\n",
    "    n_channels=config.VAE_output_channels,\n",
    "    n_latent=N_LATENT,\n",
    "    layernorm=True,\n",
    "    squash_output=True\n",
    ")\n",
    "lstm = LSTM(\n",
    "    latent_size=N_LATENT, \n",
    "    hidden_size=HIDDEN_SIZE, \n",
    "    num_layers=N_STACKED_LAYERS\n",
    "    )\n",
    "\n",
    "model = autoencoder_LSTM(encoder=encoder, LSTM=lstm, decoder=decoder)\n",
    "model.load(join(MODEL_PATH, FC_MODEL))"
   ]
  },
  {
   "cell_type": "markdown",
   "metadata": {},
   "source": [
    "## Reconstruct dataset"
   ]
  },
  {
   "cell_type": "code",
   "execution_count": null,
   "metadata": {},
   "outputs": [],
   "source": [
    "pred_horizon = int(config.time_steps_per_cond - config.single_flow_cond_train_share * config.time_steps_per_cond - INPUT_WIDTH)\n",
    "\n",
    "with pt.no_grad():\n",
    "    inputs, targets = test_windows[0]\n",
    "\n",
    "    # add batch dimension with unsqueeze(0)\n",
    "    inputs = inputs.unsqueeze(0).to(device)\n",
    "    test_reconstr = model(inputs, pred_horizon)\n",
    "\n",
    "test_original = test[:,:,INPUT_WIDTH:]"
   ]
  },
  {
   "cell_type": "markdown",
   "metadata": {},
   "source": [
    "#### Create animations of the reconstruction"
   ]
  },
  {
   "cell_type": "code",
   "execution_count": null,
   "metadata": {},
   "outputs": [],
   "source": [
    "SE = (test_original - test_reconstr)**2\n",
    "\n",
    "fig, (ax1, ax2, ax3) = plt.subplots(1, 3, figsize=(6, 2.5))\n",
    "vmin_cp, vmax_cp = config.plot_lims_cp\n",
    "vmin_MSE, vmax_MSE = config.plot_lims_MSE_reconstruction\n",
    "levels_cp = pt.linspace(vmin_cp, vmax_cp, 120)\n",
    "levels_MSE = pt.linspace(vmin_MSE, vmax_MSE, 120)\n",
    "\n",
    "def update(frame):\n",
    "    ax1.clear()\n",
    "    ax2.clear()\n",
    "    ax3.clear()\n",
    "    \n",
    "    ax1.contourf(xx, yy, test_original[:, :, frame], vmin=vmin_cp, vmax=vmax_cp, levels=levels_cp)\n",
    "    ax2.contourf(xx, yy, test_reconstr[:, :, frame], vmin=vmin_cp, vmax=vmax_cp, levels=levels_cp)\n",
    "    cont = ax3.contourf(xx, yy, SE[:, :, frame], vmin=vmin_MSE, vmax=vmax_MSE, levels=levels_MSE)\n",
    "\n",
    "    ax1.set_title(\"Ground Truth\")\n",
    "    ax2.set_title(DIM_REDUCTION + \"-FC\" if DIM_REDUCTION == \"SVD\" else \"CNN-VAE-FC\")\n",
    "\n",
    "    for ax in [ax1, ax2, ax3]:\n",
    "        ax.set_aspect(\"equal\")\n",
    "        ax.set_xticklabels([])\n",
    "        ax.set_yticklabels([])\n",
    "        ax.set_yticks([])\n",
    "        ax.set_xticks([])\n",
    "\n",
    "ani = animation.FuncAnimation(fig, update, frames=SE.shape[2], interval=100)\n",
    "ani.save(join(OUTPUT_PATH, f\"{DIM_REDUCTION}_FC_single_reconstruction.gif\"), writer='pillow')\n",
    "plt.close(fig)\n",
    "HTML(ani.to_jshtml())"
   ]
  },
  {
   "cell_type": "markdown",
   "metadata": {},
   "source": [
    "#### Compare Power Spectra of POD Modes"
   ]
  },
  {
   "cell_type": "code",
   "execution_count": null,
   "metadata": {},
   "outputs": [],
   "source": [
    "# flatten original and reconstructed test dataset\n",
    "test_original = test_original.flatten(0,1)\n",
    "test_reconstr = test_reconstr.flatten(0,1)"
   ]
  },
  {
   "cell_type": "code",
   "execution_count": null,
   "metadata": {},
   "outputs": [],
   "source": [
    "svd_original= SVD(test_original - test_original.mean(dim=1).unsqueeze(-1), rank=1e5)\n",
    "V_original = svd_original.V\n",
    "\n",
    "svd_reconstr = SVD(test_reconstr - test_reconstr.mean(dim=1).unsqueeze(-1), rank=1e5)\n",
    "V_reconstr = svd_reconstr.V\n",
    "\n",
    "N = test_original.shape[1]\n",
    "num_modes = 6\n",
    "sample_rate = 2000          # [Hz]\n",
    "y_lims = config.plot_lims_power_spectra_single\n",
    "psd_mse = []\n",
    "\n",
    "fig, ax = plt.subplots(3, 2, figsize=config.power_sepctra_figsize, sharex=True)\n",
    "for row in range(3):\n",
    "    for col in range(2):\n",
    "        # Calculate the mode index and retrieve mode coefficients\n",
    "        mode = row * 2 + col                   \n",
    "        original_mode_coeffs = V_original[:, mode].numpy()\n",
    "        reconstr_mode_coeffs = V_reconstr[:, mode].numpy()\n",
    "\n",
    "        # Compute FFT and PSD\n",
    "        original_fft = fft(original_mode_coeffs)\n",
    "        original_psd = np.abs(original_fft)**2 / len(original_fft)\n",
    "        reconstr_fft = fft(reconstr_mode_coeffs)\n",
    "        reconstr_psd = np.abs(reconstr_fft)**2 / len(reconstr_fft)\n",
    "\n",
    "        psd_mse.append(mse_loss(pt.from_numpy(original_psd), pt.from_numpy(reconstr_psd)))\n",
    "\n",
    "        # Frequency values for plotting\n",
    "        freq = fftfreq(len(original_mode_coeffs), d=1/sample_rate)* config.c_mean * 0.5 / config.U_inf\n",
    "\n",
    "        # Use only the positive frequencies (discard negative frequency half)\n",
    "        freq = freq[:len(freq)//2]\n",
    "        original_psd = original_psd[:len(original_psd)//2]\n",
    "        reconstr_psd = reconstr_psd[:len(reconstr_psd)//2]\n",
    "\n",
    "        # Plot the power spectra\n",
    "        ax[row, col].semilogy(freq, original_psd, linewidth=0.5, color=\"black\", label=\"Experimental Data\")\n",
    "        ax[row, col].semilogy(freq, reconstr_psd, linewidth=0.7, color=\"cornflowerblue\", linestyle='dashed', label=DIM_REDUCTION + \"-FC\" if DIM_REDUCTION == \"SVD\" else \"CNN-VAE-FC\")\n",
    "        ax[row, col].set_title(f\"Mode Coefficient {mode + 1}\")\n",
    "        ax[row, col].grid()\n",
    "        ax[row, col].set_yticklabels([])\n",
    "        ax[row, col].set_yticks([])\n",
    "        ax[row, col].set_ylim(y_lims)\n",
    "\n",
    "        \n",
    "ax[2, 0].set_xlabel(rf\"Reduced Frequency $\\omega$\")\n",
    "ax[2, 1].set_xlabel(rf\"Reduced Frequency $\\omega$\")\n",
    "ax[2, 0].legend()\n",
    "\n",
    "plt.xscale(\"log\")\n",
    "fig.tight_layout()\n",
    "fig.savefig(join(OUTPUT_PATH, f\"{DIM_REDUCTION}_FC_single_power_spectra.png\"), bbox_inches=\"tight\")\n",
    "\n",
    "print(\"MSE is:                  \", sum(psd_mse) / len(psd_mse))"
   ]
  }
 ],
 "metadata": {
  "kernelspec": {
   "display_name": "Python 3",
   "language": "python",
   "name": "python3"
  },
  "language_info": {
   "codemirror_mode": {
    "name": "ipython",
    "version": 3
   },
   "file_extension": ".py",
   "mimetype": "text/x-python",
   "name": "python",
   "nbconvert_exporter": "python",
   "pygments_lexer": "ipython3",
   "version": "3.10.11"
  },
  "orig_nbformat": 4
 },
 "nbformat": 4,
 "nbformat_minor": 2
}
