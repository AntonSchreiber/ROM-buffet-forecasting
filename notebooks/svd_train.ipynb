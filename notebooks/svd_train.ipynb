{
 "cells": [
  {
   "attachments": {},
   "cell_type": "markdown",
   "metadata": {},
   "source": [
    "# Singular Value Decomposition (SVD)"
   ]
  },
  {
   "attachments": {},
   "cell_type": "markdown",
   "metadata": {},
   "source": [
    "##### 2.a: merge IPSP datasets for multiple flow conditions and compute the SVD; the left singular vectors form the sequence of reduced states"
   ]
  },
  {
   "cell_type": "code",
   "execution_count": null,
   "metadata": {},
   "outputs": [],
   "source": [
    "import torch as pt\n",
    "from torch import flatten\n",
    "from flowtorch.analysis import SVD\n",
    "import random\n",
    "import bisect\n",
    "import matplotlib.pyplot as plt\n",
    "import matplotlib as mpl\n",
    "from os.path import join\n",
    "import numpy as np\n",
    "random.seed(10)\n",
    "plt.rcParams[\"figure.dpi\"] = 180\n",
    "\n",
    "output_path = \"../output/SVD\"\n",
    "data_path = \"../data\""
   ]
  },
  {
   "attachments": {},
   "cell_type": "markdown",
   "metadata": {},
   "source": [
    "#### Prepare the data for SVD"
   ]
  },
  {
   "cell_type": "code",
   "execution_count": null,
   "metadata": {},
   "outputs": [],
   "source": [
    "# load data and extract keys\n",
    "cp_084_data = pt.load(join(data_path, \"cp_084_500snaps.pt\"))\n",
    "keys = list(cp_084_data.keys())"
   ]
  },
  {
   "cell_type": "code",
   "execution_count": null,
   "metadata": {},
   "outputs": [],
   "source": [
    "# sample two random keys for test data except the outer ones\n",
    "test_keys = random.sample(keys[1:-1], 2)\n",
    "print(\"The test keys are:       \", test_keys)\n",
    "\n",
    "# assemble test data\n",
    "X_test = pt.concat((cp_084_data[test_keys[0]].flatten(0, 1), cp_084_data[test_keys[1]].flatten(0, 1)), dim=1)\n",
    "print(\"Shape of test_data is:   \", X_test.shape, \"\\n\")\n",
    "\n",
    "# extract the train keys and shuffle them\n",
    "train_keys = [key for key in keys if key not in test_keys]\n",
    "random.shuffle(train_keys)\n",
    "print(\"The train keys are:      \", train_keys)\n",
    "\n",
    "# assemble train data\n",
    "X_train = cp_084_data[train_keys[0]].flatten(0, 1)\n",
    "for i in range(1, len(train_keys)):\n",
    "    X_train = pt.concat((X_train, cp_084_data[train_keys[i]].flatten(0, 1)), dim=1)\n",
    "print(\"Shape of train_data is:  \", X_train.shape, \"\\n\")"
   ]
  },
  {
   "attachments": {},
   "cell_type": "markdown",
   "metadata": {},
   "source": [
    "#### Apply SVD on training data and save the left singular vectors"
   ]
  },
  {
   "cell_type": "code",
   "execution_count": null,
   "metadata": {},
   "outputs": [],
   "source": [
    "rank = 2500\n",
    "\n",
    "# perform SVD on the data matrix where the temporal mean is subtracted from each column\n",
    "svd = SVD(X_train - X_train.mean(dim=1).unsqueeze(-1), rank=rank)\n",
    "print(svd, \"\\n\")\n",
    "\n",
    "# extract the left singular vectors, the right singular vectors and the singular values\n",
    "U = svd.U\n",
    "s = svd.s\n",
    "V_t = svd.V\n",
    "print(\"Shape of U is:           \", U.shape)\n",
    "print(\"Shape of s is:           \", s.shape)\n",
    "print(\"Shape of V is:           \", V_t.shape, \"\\n\")\n",
    "\n",
    "pt.save(U, join(output_path, \"U.pt\"))"
   ]
  },
  {
   "attachments": {},
   "cell_type": "markdown",
   "metadata": {},
   "source": [
    "#### Plot Singular Value contributions"
   ]
  },
  {
   "cell_type": "code",
   "execution_count": null,
   "metadata": {},
   "outputs": [],
   "source": [
    "s_sum = s.sum().item()\n",
    "# relative contribution\n",
    "s_rel = [s_i / s_sum * 100 for s_i in s]\n",
    "# cumulative contribution\n",
    "s_cum = [s[:n].sum().item() / s_sum * 100 for n in range(s.shape[0])]\n",
    "# find out how many singular values we need to reach at least 90 percent\n",
    "i_90 = bisect.bisect_right(s_cum, 90)\n",
    "\n",
    "fig1, ax1 = plt.subplots(figsize=(6, 2.5))\n",
    "ax1.bar(range(svd.opt_rank), s_rel[:svd.opt_rank], align=\"edge\")\n",
    "ax1.axvline(svd.opt_rank, color=\"green\", linestyle=\"-\")\n",
    "ax1.text(165, 1, \"Optimal rank: {}\".format(svd.opt_rank))\n",
    "ax1.set_title(\"individual contribution in %\")\n",
    "fig1.tight_layout()\n",
    "fig1.savefig(join(output_path, \"individual_contribution.png\"))\n",
    "\n",
    "fig2, ax2 = plt.subplots(figsize=(6, 2.5))\n",
    "ax2.plot(range(s.shape[0]), s_cum)\n",
    "ax2.set_xlim(0, rank)\n",
    "ax2.set_ylim(0, 105)\n",
    "ax2.set_title(\"cumulative contribution in %\")\n",
    "ax2.plot([0, i_90, i_90], [s_cum[i_90], s_cum[i_90], 0], ls=\"--\", color=\"grey\")\n",
    "ax2.axvline(svd.opt_rank, color=\"green\", linestyle=\"-\")\n",
    "ax2.text(i_90 - 1350, 20, \"first {:d} singular values yield {:1.2f}%\".format(i_90, s_cum[i_90]))\n",
    "fig2.tight_layout()\n",
    "fig2.savefig(join(output_path, \"cumulative_contributions.png\"))"
   ]
  },
  {
   "attachments": {},
   "cell_type": "markdown",
   "metadata": {},
   "source": [
    "#### Plot Singular Value contributions to variance reconstruction"
   ]
  },
  {
   "cell_type": "code",
   "execution_count": null,
   "metadata": {},
   "outputs": [],
   "source": [
    "s_sum = (s**2).sum().item()\n",
    "# relative contribution\n",
    "s_rel = [s_i**2 / s_sum * 100 for s_i in s]\n",
    "# cumulative contribution\n",
    "s_cum = [(s[:n]**2).sum().item() / s_sum * 100 for n in range(s.shape[0])]\n",
    "# find out how many singular values we need to reach at least 90 percent\n",
    "i_90 = bisect.bisect_right(s_cum, 90)\n",
    "\n",
    "x_lim = 20\n",
    "\n",
    "fig1, (ax1, ax2) = plt.subplots(2, 1, sharex=True)\n",
    "ax1.bar(range(x_lim), s_rel[:x_lim], align=\"edge\")\n",
    "ax1.set_title(\"individual contribution in %\")\n",
    "ax2.plot(range(s.shape[0]), s_cum)\n",
    "ax2.set_xlim(0, x_lim)\n",
    "ax2.set_ylim(0, 105)\n",
    "ax2.set_title(\"cumulative contribution in %\")\n",
    "ax2.plot([0, i_90, i_90], [s_cum[i_90], s_cum[i_90], 0], ls=\"--\", color=\"C3\")\n",
    "ax2.text(i_90 - 13, 20, \"first {:d} singular values yield {:1.2f}%\".format(i_90, s_cum[i_90]))\n",
    "ax2.set_xticks(range(0, x_lim + 1, 2))\n",
    "fig2.tight_layout()\n",
    "fig2.savefig(join(output_path, \"variance_reconstruction.png\"))"
   ]
  }
 ],
 "metadata": {
  "kernelspec": {
   "display_name": "Python 3",
   "language": "python",
   "name": "python3"
  },
  "language_info": {
   "codemirror_mode": {
    "name": "ipython",
    "version": 3
   },
   "file_extension": ".py",
   "mimetype": "text/x-python",
   "name": "python",
   "nbconvert_exporter": "python",
   "pygments_lexer": "ipython3",
   "version": "3.10.11"
  },
  "orig_nbformat": 4
 },
 "nbformat": 4,
 "nbformat_minor": 2
}
