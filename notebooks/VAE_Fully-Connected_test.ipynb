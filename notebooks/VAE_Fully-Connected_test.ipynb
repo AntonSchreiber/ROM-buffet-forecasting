{
 "cells": [
  {
   "cell_type": "markdown",
   "metadata": {},
   "source": [
    "# Test CNN-VAE (reduction) with Fully-Connected Net (prediction)"
   ]
  },
  {
   "cell_type": "code",
   "execution_count": null,
   "metadata": {},
   "outputs": [],
   "source": [
    "import os\n",
    "from os.path import join\n",
    "import sys\n",
    "from pathlib import Path\n",
    "\n",
    "# include app directory into sys.path\n",
    "parent_dir = Path(os.path.abspath('')).parent\n",
    "app_dir = join(parent_dir, \"app\")\n",
    "if app_dir not in sys.path:\n",
    "      sys.path.append(app_dir)\n",
    "\n",
    "import torch as pt\n",
    "import matplotlib.pyplot as plt\n",
    "import utils.config as config\n",
    "\n",
    "plt.rcParams[\"figure.dpi\"] = 180\n",
    "\n",
    "VAE_PATH = join(parent_dir, \"output\", \"VAE\", \"latent_study\", config.VAE_model)\n",
    "OUTPUT_PATH = join(parent_dir, \"output\", \"single_flow_cond\")\n",
    "MODEL_PATH = join(parent_dir, \"output\", \"single_flow_cond\", \"parameter_study\")"
   ]
  },
  {
   "cell_type": "code",
   "execution_count": null,
   "metadata": {},
   "outputs": [],
   "source": [
    "# load study results\n",
    "study_results = pt.load(join(MODEL_PATH, \"study_results.pt\"))\n",
    "param_combinations = list(study_results.keys())\n",
    "\n",
    "# find parameter combinations of study and extract test loss\n",
    "input_width = [int(param_set.split('_')[0]) for param_set in param_combinations]\n",
    "hidden_size = [int(param_set.split('_')[1]) for param_set in param_combinations]\n",
    "n_hidden = [int(param_set.split('_')[2]) for param_set in param_combinations]\n",
    "test_losses = [study_results[param_set][0][\"val_loss\"].values[-10:].mean() for param_set in param_combinations]\n",
    "\n",
    "# Sort the indexed losses based on the values (ascending order)\n",
    "sorted_losses = sorted(list(enumerate(test_losses)), key=lambda x: x[1])\n",
    "lowest_loss_idx = [index for index, _ in sorted_losses[:5]]"
   ]
  },
  {
   "cell_type": "markdown",
   "metadata": {},
   "source": [
    "#### Create Scatter Plot"
   ]
  },
  {
   "cell_type": "code",
   "execution_count": null,
   "metadata": {},
   "outputs": [],
   "source": [
    "print(\"The param combinations with the lowest loss: [input_width, hidden_size, n_hidden]\")\n",
    "print([param_combinations[i] for i in lowest_loss_idx]) \n",
    "\n",
    "# Create a 3D scatter plot\n",
    "fig = plt.figure()\n",
    "ax = fig.add_subplot(111, projection='3d')\n",
    "ax.scatter(input_width, hidden_size, n_hidden, c=test_losses, cmap='viridis', s=100)\n",
    "ax.set_xlabel(\"input sequence length\")\n",
    "ax.set_ylabel(\"hidden layer neurons\")\n",
    "ax.set_zlabel(\"hidden layers\")\n",
    "\n",
    "cbar = plt.colorbar(ax.scatter(input_width, hidden_size, n_hidden, c=test_losses, cmap='viridis'), pad=0.15)\n",
    "cbar.set_label('Test Loss')\n",
    "fig.tight_layout()\n",
    "fig.savefig(join(OUTPUT_PATH, \"VAE_FC_model_param_study\"))\n"
   ]
  },
  {
   "cell_type": "code",
   "execution_count": null,
   "metadata": {},
   "outputs": [],
   "source": [
    "# decide on model architecture and increase prediction horizon incrementally"
   ]
  },
  {
   "cell_type": "markdown",
   "metadata": {},
   "source": [
    "#### Latent Loss vs. Full Space Loss"
   ]
  },
  {
   "cell_type": "code",
   "execution_count": null,
   "metadata": {},
   "outputs": [],
   "source": [
    "# compare the latent loss vs the full space MSE"
   ]
  },
  {
   "cell_type": "markdown",
   "metadata": {},
   "source": [
    "#### Loss vs. Prediction Horizon"
   ]
  },
  {
   "cell_type": "code",
   "execution_count": null,
   "metadata": {},
   "outputs": [],
   "source": [
    "# show how the loss of the selected model configuration changes when the prediction horizon increases"
   ]
  },
  {
   "cell_type": "markdown",
   "metadata": {},
   "source": [
    "#### Test AR prediction"
   ]
  },
  {
   "cell_type": "code",
   "execution_count": null,
   "metadata": {},
   "outputs": [],
   "source": [
    "# decide on architecture and predict an arbitrary timestep -> compare to actual timestep"
   ]
  }
 ],
 "metadata": {
  "kernelspec": {
   "display_name": "Python 3",
   "language": "python",
   "name": "python3"
  },
  "language_info": {
   "codemirror_mode": {
    "name": "ipython",
    "version": 3
   },
   "file_extension": ".py",
   "mimetype": "text/x-python",
   "name": "python",
   "nbconvert_exporter": "python",
   "pygments_lexer": "ipython3",
   "version": "3.10.11"
  },
  "orig_nbformat": 4
 },
 "nbformat": 4,
 "nbformat_minor": 2
}
